{
 "cells": [
  {
   "cell_type": "code",
   "execution_count": 1,
   "id": "49ee82a2",
   "metadata": {},
   "outputs": [
    {
     "data": {
      "text/plain": [
       "'Done'"
      ]
     },
     "execution_count": 1,
     "metadata": {},
     "output_type": "execute_result"
    }
   ],
   "source": [
    "import tweepy\n",
    "from tqdm import tqdm\n",
    "\"Done\""
   ]
  },
  {
   "cell_type": "code",
   "execution_count": 2,
   "id": "779ee48f",
   "metadata": {},
   "outputs": [
    {
     "data": {
      "text/plain": [
       "'Done'"
      ]
     },
     "execution_count": 2,
     "metadata": {},
     "output_type": "execute_result"
    }
   ],
   "source": [
    "Ck = '5wxytMx4TWj6RrpeLn6JrL55f' # consumer_key\n",
    "Cs = 'GInmqsSuzqC3dne0TlH3vFeHwLR6fR0UKLMu8rS6bXXMG3w1KV' # consumer_secret\n",
    "At = '1712756502-ltLCHUu2AXZ2RZZXztivZ6jwdto1fb2YivjEcyz' # access_token\n",
    "As = 'uCyYYfj5WD6I0DaSeIviaoKpcK8EGBH21CmPsaoKwjDxW' # access_secret\n",
    "'Done'"
   ]
  },
  {
   "cell_type": "code",
   "execution_count": 20,
   "id": "35d52f81",
   "metadata": {},
   "outputs": [
    {
     "name": "stderr",
     "output_type": "stream",
     "text": [
      "117it [00:03, 32.89it/s]Rate limit reached. Sleeping for: 396\n",
      "860it [07:03,  2.03it/s]\n"
     ]
    },
    {
     "data": {
      "text/plain": [
       "'Done'"
      ]
     },
     "execution_count": 20,
     "metadata": {},
     "output_type": "execute_result"
    }
   ],
   "source": [
    "qry = \"IbukotaBaru OR IKNNusantara OR IbuKotaBaruNUSANTARA OR (kalimantan AND ibukota AND baru) OR IKN OR IKNProyekUtangBaru \"\n",
    "N = 5000 # jumlah N tweet \"terkini\" yang ingin diambil\n",
    "T = []\n",
    "for post in tqdm(tweepy.Cursor(api.search_tweets, q=qry, lang='id', tweet_mode='extended').items(N)):\n",
    "    T.append(post)\n",
    "    \n",
    "\"Done\""
   ]
  },
  {
   "cell_type": "code",
   "execution_count": 5,
   "id": "6be691a1",
   "metadata": {},
   "outputs": [
    {
     "data": {
      "text/plain": [
       "{'created_at': 'Tue May 17 08:09:03 +0000 2022',\n",
       " 'id': 1526474866022846464,\n",
       " 'id_str': '1526474866022846464',\n",
       " 'full_text': 'Menag Yaqut atau Gus Yaqut membantah pemerintah menggunakan dana haji untuk membangun IKN Nusantara. #IKNNusantara https://t.co/emoa6kyTcF',\n",
       " 'truncated': False,\n",
       " 'display_text_range': [0, 138],\n",
       " 'entities': {'hashtags': [{'text': 'IKNNusantara', 'indices': [101, 114]}],\n",
       "  'symbols': [],\n",
       "  'user_mentions': [],\n",
       "  'urls': [{'url': 'https://t.co/emoa6kyTcF',\n",
       "    'expanded_url': 'https://m.jpnn.com/news/menag-yaqut-bantah-pemerintah-mengunakan-dana-haji-untuk-membangun-ikn-nusantara',\n",
       "    'display_url': 'm.jpnn.com/news/menag-yaq…',\n",
       "    'indices': [115, 138]}]},\n",
       " 'metadata': {'iso_language_code': 'in', 'result_type': 'recent'},\n",
       " 'source': '<a href=\"http://www.jpnn.com\" rel=\"nofollow\">JPNN News Update</a>',\n",
       " 'in_reply_to_status_id': None,\n",
       " 'in_reply_to_status_id_str': None,\n",
       " 'in_reply_to_user_id': None,\n",
       " 'in_reply_to_user_id_str': None,\n",
       " 'in_reply_to_screen_name': None,\n",
       " 'user': {'id': 79130206,\n",
       "  'id_str': '79130206',\n",
       "  'name': 'JPNN.com',\n",
       "  'screen_name': 'jpnncom',\n",
       "  'location': 'Indonesia',\n",
       "  'description': 'Ada Cerita di Balik Berita\\nOfficial Twitter https://t.co/M5aQFMVnan\\n\\nDownload Android & IOS: https://t.co/pVXPQwG55M\\nContact Us: info@jpnn.com',\n",
       "  'url': 'https://t.co/bouVMxnbJE',\n",
       "  'entities': {'url': {'urls': [{'url': 'https://t.co/bouVMxnbJE',\n",
       "      'expanded_url': 'https://www.jpnn.com',\n",
       "      'display_url': 'jpnn.com',\n",
       "      'indices': [0, 23]}]},\n",
       "   'description': {'urls': [{'url': 'https://t.co/M5aQFMVnan',\n",
       "      'expanded_url': 'http://JPNN.com',\n",
       "      'display_url': 'JPNN.com',\n",
       "      'indices': [44, 67]},\n",
       "     {'url': 'https://t.co/pVXPQwG55M',\n",
       "      'expanded_url': 'http://onelink.to/ha8768',\n",
       "      'display_url': 'onelink.to/ha8768',\n",
       "      'indices': [93, 116]}]}},\n",
       "  'protected': False,\n",
       "  'followers_count': 64815,\n",
       "  'friends_count': 0,\n",
       "  'listed_count': 394,\n",
       "  'created_at': 'Fri Oct 02 08:23:26 +0000 2009',\n",
       "  'favourites_count': 741,\n",
       "  'utc_offset': None,\n",
       "  'time_zone': None,\n",
       "  'geo_enabled': True,\n",
       "  'verified': True,\n",
       "  'statuses_count': 788448,\n",
       "  'lang': None,\n",
       "  'contributors_enabled': False,\n",
       "  'is_translator': False,\n",
       "  'is_translation_enabled': False,\n",
       "  'profile_background_color': '1B95E0',\n",
       "  'profile_background_image_url': 'http://abs.twimg.com/images/themes/theme13/bg.gif',\n",
       "  'profile_background_image_url_https': 'https://abs.twimg.com/images/themes/theme13/bg.gif',\n",
       "  'profile_background_tile': True,\n",
       "  'profile_image_url': 'http://pbs.twimg.com/profile_images/1523518470499205121/EJf01gIy_normal.jpg',\n",
       "  'profile_image_url_https': 'https://pbs.twimg.com/profile_images/1523518470499205121/EJf01gIy_normal.jpg',\n",
       "  'profile_banner_url': 'https://pbs.twimg.com/profile_banners/79130206/1652161847',\n",
       "  'profile_link_color': 'ADADAD',\n",
       "  'profile_sidebar_border_color': 'FFFFFF',\n",
       "  'profile_sidebar_fill_color': '4343E6',\n",
       "  'profile_text_color': '333333',\n",
       "  'profile_use_background_image': True,\n",
       "  'has_extended_profile': False,\n",
       "  'default_profile': False,\n",
       "  'default_profile_image': False,\n",
       "  'following': False,\n",
       "  'follow_request_sent': False,\n",
       "  'notifications': False,\n",
       "  'translator_type': 'none',\n",
       "  'withheld_in_countries': []},\n",
       " 'geo': None,\n",
       " 'coordinates': None,\n",
       " 'place': None,\n",
       " 'contributors': None,\n",
       " 'is_quote_status': False,\n",
       " 'retweet_count': 0,\n",
       " 'favorite_count': 0,\n",
       " 'favorited': False,\n",
       " 'retweeted': False,\n",
       " 'possibly_sensitive': False,\n",
       " 'lang': 'in'}"
      ]
     },
     "execution_count": 5,
     "metadata": {},
     "output_type": "execute_result"
    }
   ],
   "source": [
    "T[0]._json"
   ]
  },
  {
   "cell_type": "code",
   "execution_count": 7,
   "id": "abb2a794",
   "metadata": {},
   "outputs": [
    {
     "name": "stdout",
     "output_type": "stream",
     "text": [
      " Berhasil mendapatkan 1607 tweets\n"
     ]
    }
   ],
   "source": [
    "# T bukan sekedar list of tweets \n",
    "tweet = [t._json for t in T]\n",
    "print(' Berhasil mendapatkan {} tweets'.format(len(tweet)))"
   ]
  },
  {
   "cell_type": "code",
   "execution_count": 8,
   "id": "34ac7b2a",
   "metadata": {},
   "outputs": [
    {
     "data": {
      "text/plain": [
       "{'created_at': 'Tue May 17 08:09:03 +0000 2022',\n",
       " 'id': 1526474866022846464,\n",
       " 'id_str': '1526474866022846464',\n",
       " 'full_text': 'Menag Yaqut atau Gus Yaqut membantah pemerintah menggunakan dana haji untuk membangun IKN Nusantara. #IKNNusantara https://t.co/emoa6kyTcF',\n",
       " 'truncated': False,\n",
       " 'display_text_range': [0, 138],\n",
       " 'entities': {'hashtags': [{'text': 'IKNNusantara', 'indices': [101, 114]}],\n",
       "  'symbols': [],\n",
       "  'user_mentions': [],\n",
       "  'urls': [{'url': 'https://t.co/emoa6kyTcF',\n",
       "    'expanded_url': 'https://m.jpnn.com/news/menag-yaqut-bantah-pemerintah-mengunakan-dana-haji-untuk-membangun-ikn-nusantara',\n",
       "    'display_url': 'm.jpnn.com/news/menag-yaq…',\n",
       "    'indices': [115, 138]}]},\n",
       " 'metadata': {'iso_language_code': 'in', 'result_type': 'recent'},\n",
       " 'source': '<a href=\"http://www.jpnn.com\" rel=\"nofollow\">JPNN News Update</a>',\n",
       " 'in_reply_to_status_id': None,\n",
       " 'in_reply_to_status_id_str': None,\n",
       " 'in_reply_to_user_id': None,\n",
       " 'in_reply_to_user_id_str': None,\n",
       " 'in_reply_to_screen_name': None,\n",
       " 'user': {'id': 79130206,\n",
       "  'id_str': '79130206',\n",
       "  'name': 'JPNN.com',\n",
       "  'screen_name': 'jpnncom',\n",
       "  'location': 'Indonesia',\n",
       "  'description': 'Ada Cerita di Balik Berita\\nOfficial Twitter https://t.co/M5aQFMVnan\\n\\nDownload Android & IOS: https://t.co/pVXPQwG55M\\nContact Us: info@jpnn.com',\n",
       "  'url': 'https://t.co/bouVMxnbJE',\n",
       "  'entities': {'url': {'urls': [{'url': 'https://t.co/bouVMxnbJE',\n",
       "      'expanded_url': 'https://www.jpnn.com',\n",
       "      'display_url': 'jpnn.com',\n",
       "      'indices': [0, 23]}]},\n",
       "   'description': {'urls': [{'url': 'https://t.co/M5aQFMVnan',\n",
       "      'expanded_url': 'http://JPNN.com',\n",
       "      'display_url': 'JPNN.com',\n",
       "      'indices': [44, 67]},\n",
       "     {'url': 'https://t.co/pVXPQwG55M',\n",
       "      'expanded_url': 'http://onelink.to/ha8768',\n",
       "      'display_url': 'onelink.to/ha8768',\n",
       "      'indices': [93, 116]}]}},\n",
       "  'protected': False,\n",
       "  'followers_count': 64815,\n",
       "  'friends_count': 0,\n",
       "  'listed_count': 394,\n",
       "  'created_at': 'Fri Oct 02 08:23:26 +0000 2009',\n",
       "  'favourites_count': 741,\n",
       "  'utc_offset': None,\n",
       "  'time_zone': None,\n",
       "  'geo_enabled': True,\n",
       "  'verified': True,\n",
       "  'statuses_count': 788448,\n",
       "  'lang': None,\n",
       "  'contributors_enabled': False,\n",
       "  'is_translator': False,\n",
       "  'is_translation_enabled': False,\n",
       "  'profile_background_color': '1B95E0',\n",
       "  'profile_background_image_url': 'http://abs.twimg.com/images/themes/theme13/bg.gif',\n",
       "  'profile_background_image_url_https': 'https://abs.twimg.com/images/themes/theme13/bg.gif',\n",
       "  'profile_background_tile': True,\n",
       "  'profile_image_url': 'http://pbs.twimg.com/profile_images/1523518470499205121/EJf01gIy_normal.jpg',\n",
       "  'profile_image_url_https': 'https://pbs.twimg.com/profile_images/1523518470499205121/EJf01gIy_normal.jpg',\n",
       "  'profile_banner_url': 'https://pbs.twimg.com/profile_banners/79130206/1652161847',\n",
       "  'profile_link_color': 'ADADAD',\n",
       "  'profile_sidebar_border_color': 'FFFFFF',\n",
       "  'profile_sidebar_fill_color': '4343E6',\n",
       "  'profile_text_color': '333333',\n",
       "  'profile_use_background_image': True,\n",
       "  'has_extended_profile': False,\n",
       "  'default_profile': False,\n",
       "  'default_profile_image': False,\n",
       "  'following': False,\n",
       "  'follow_request_sent': False,\n",
       "  'notifications': False,\n",
       "  'translator_type': 'none',\n",
       "  'withheld_in_countries': []},\n",
       " 'geo': None,\n",
       " 'coordinates': None,\n",
       " 'place': None,\n",
       " 'contributors': None,\n",
       " 'is_quote_status': False,\n",
       " 'retweet_count': 0,\n",
       " 'favorite_count': 0,\n",
       " 'favorited': False,\n",
       " 'retweeted': False,\n",
       " 'possibly_sensitive': False,\n",
       " 'lang': 'in'}"
      ]
     },
     "execution_count": 8,
     "metadata": {},
     "output_type": "execute_result"
    }
   ],
   "source": [
    "# Data pertama\n",
    "tweet[0]"
   ]
  },
  {
   "cell_type": "code",
   "execution_count": 9,
   "id": "800dd1cf",
   "metadata": {},
   "outputs": [
    {
     "data": {
      "text/plain": [
       "('Tue May 17 08:09:03 +0000 2022',\n",
       " 'Menag Yaqut atau Gus Yaqut membantah pemerintah menggunakan dana haji untuk membangun IKN Nusantara. #IKNNusantara https://t.co/emoa6kyTcF')"
      ]
     },
     "execution_count": 9,
     "metadata": {},
     "output_type": "execute_result"
    }
   ],
   "source": [
    "# Datanya berbentuk JSON\n",
    "tweet[0]['created_at'], tweet[0]['full_text']"
   ]
  },
  {
   "cell_type": "code",
   "execution_count": 10,
   "id": "1de98998",
   "metadata": {},
   "outputs": [
    {
     "name": "stdout",
     "output_type": "stream",
     "text": [
      "tweet pertama oleh \"jpnncom\" : \"Menag Yaqut atau Gus Yaqut membantah pemerintah menggunakan dana haji untuk membangun IKN Nusantara. #IKNNusantara https://t.co/emoa6kyTcF\"\n"
     ]
    }
   ],
   "source": [
    "# Contoh mengakses data spesifik pada tweet yang pertama:\n",
    "print('tweet pertama oleh \"{}\" : \"{}\"'.format(tweet[0]['user']['screen_name'],tweet[0]['full_text']))"
   ]
  },
  {
   "cell_type": "code",
   "execution_count": null,
   "id": "27bdb7ce",
   "metadata": {},
   "outputs": [],
   "source": [
    "# Datanya berbentuk JSON\n",
    "tweet[0]['created_at'], tweet[0]['full_text']"
   ]
  },
  {
   "cell_type": "code",
   "execution_count": 21,
   "id": "fad33771",
   "metadata": {},
   "outputs": [],
   "source": [
    "import json \n",
    "def saveTweets(tweets, file='Tweets.json'): #in Json Format\n",
    "    with open(file, 'w') as f:\n",
    "        for t in tweets:\n",
    "            try:\n",
    "                f.write(json.dumps(t)+'\\n')\n",
    "            except:\n",
    "                pass"
   ]
  },
  {
   "cell_type": "code",
   "execution_count": 23,
   "id": "99139fde",
   "metadata": {},
   "outputs": [
    {
     "name": "stdout",
     "output_type": "stream",
     "text": [
      "Saved to Tweets_2.json\n"
     ]
    }
   ],
   "source": [
    "# Menyimpan hasil crawling twitter\n",
    "fileName = 'Tweets_2.json'\n",
    "saveTweets(tweet, file=fileName)\n",
    "print('Saved to '+fileName)"
   ]
  },
  {
   "cell_type": "code",
   "execution_count": 25,
   "id": "a3af4275",
   "metadata": {},
   "outputs": [],
   "source": [
    "import csv\n",
    "def saveTweetsCsv(tweets, file='Tweets.csv'): #in csv Format\n",
    "    with open(file, 'w') as f:\n",
    "        for t in tweets:\n",
    "            try:\n",
    "                f.write(csv.dumps(t)+'\\n')\n",
    "            except:\n",
    "                pass"
   ]
  },
  {
   "cell_type": "code",
   "execution_count": 26,
   "id": "9be85b35",
   "metadata": {},
   "outputs": [
    {
     "name": "stdout",
     "output_type": "stream",
     "text": [
      "Saved to Tweets_02.csv\n"
     ]
    }
   ],
   "source": [
    "# Menyimpan hasil crawling twitter\n",
    "fileName = 'Tweets_02.csv'\n",
    "saveTweets(tweet, file=fileName)\n",
    "print('Saved to '+fileName)"
   ]
  },
  {
   "cell_type": "markdown",
   "id": "2b4c641f",
   "metadata": {},
   "source": [
    "### Crawling data Twitter pada tanggal 25 Mei 2022"
   ]
  },
  {
   "cell_type": "code",
   "execution_count": 5,
   "id": "67db1ff4",
   "metadata": {},
   "outputs": [
    {
     "name": "stderr",
     "output_type": "stream",
     "text": [
      "2641it [01:41, 25.21it/s]Rate limit reached. Sleeping for: 799\n",
      "4039it [15:53,  4.23it/s]\n"
     ]
    },
    {
     "data": {
      "text/plain": [
       "'Done'"
      ]
     },
     "execution_count": 5,
     "metadata": {},
     "output_type": "execute_result"
    }
   ],
   "source": [
    "qry = \"IbukotaBaru OR IKNNusantara OR IbuKotaBaruNUSANTARA OR (kalimantan AND ibukota AND baru) OR IKNProyekUtangBaru OR (IKN AND untuk AND Negeri)\"\n",
    "N = 5000 # jumlah N tweet \"terkini\" yang ingin diambil\n",
    "T = []\n",
    "for post in tqdm(tweepy.Cursor(api.search_tweets, q=qry, lang='id', tweet_mode='extended').items(N)):\n",
    "    T.append(post)\n",
    "    \n",
    "\"Done\""
   ]
  },
  {
   "cell_type": "code",
   "execution_count": 7,
   "id": "4de89793",
   "metadata": {},
   "outputs": [
    {
     "name": "stdout",
     "output_type": "stream",
     "text": [
      " Berhasil mendapatkan 4039 tweets\n"
     ]
    }
   ],
   "source": [
    "# T bukan sekedar list of tweets \n",
    "tweet = [t._json for t in T]\n",
    "print(' Berhasil mendapatkan {} tweets'.format(len(tweet)))"
   ]
  },
  {
   "cell_type": "code",
   "execution_count": 16,
   "id": "f5cd9809",
   "metadata": {},
   "outputs": [
    {
     "name": "stdout",
     "output_type": "stream",
     "text": [
      "tweet pertama oleh \"Renonegoro1\" : \"@andiithewasp Kemenkes Udah Tegaskan Rumor Vaksin Covid-19 Sebabkan Hepatitis Misterius Gak Benar\n",
      "https://t.co/N33NAsjrl8\n",
      "\n",
      "IKN Untuk Negeri\"\n"
     ]
    }
   ],
   "source": [
    "print('tweet pertama oleh \"{}\" : \"{}\"'.format(tweet[950]['user']['screen_name'],tweet[950]['full_text']))"
   ]
  },
  {
   "cell_type": "code",
   "execution_count": 9,
   "id": "bad6c862",
   "metadata": {},
   "outputs": [],
   "source": [
    "import json \n",
    "def saveTweets(tweets, file='Tweets.json'): #in Json Format\n",
    "    with open(file, 'w') as f:\n",
    "        for t in tweets:\n",
    "            try:\n",
    "                f.write(json.dumps(t)+'\\n')\n",
    "            except:\n",
    "                pass"
   ]
  },
  {
   "cell_type": "code",
   "execution_count": 10,
   "id": "4abcdda2",
   "metadata": {},
   "outputs": [
    {
     "name": "stdout",
     "output_type": "stream",
     "text": [
      "Saved to Tweets_3.json\n"
     ]
    }
   ],
   "source": [
    "# Menyimpan hasil crawling twitter\n",
    "fileName = 'Tweets_3.json'\n",
    "saveTweets(tweet, file=fileName)\n",
    "print('Saved to '+fileName)"
   ]
  },
  {
   "cell_type": "code",
   "execution_count": 11,
   "id": "f5950e71",
   "metadata": {},
   "outputs": [],
   "source": [
    "import csv\n",
    "def saveTweetsCsv(tweets, file='Tweets.csv'): #in csv Format\n",
    "    with open(file, 'w') as f:\n",
    "        for t in tweets:\n",
    "            try:\n",
    "                f.write(csv.dumps(t)+'\\n')\n",
    "            except:\n",
    "                pass"
   ]
  },
  {
   "cell_type": "code",
   "execution_count": 12,
   "id": "8054d1c7",
   "metadata": {},
   "outputs": [
    {
     "name": "stdout",
     "output_type": "stream",
     "text": [
      "Saved to Tweets_3.csv\n"
     ]
    }
   ],
   "source": [
    "# Menyimpan hasil crawling twitter\n",
    "fileName = 'Tweets_3.csv'\n",
    "saveTweets(tweet, file=fileName)\n",
    "print('Saved to '+fileName)"
   ]
  },
  {
   "cell_type": "code",
   "execution_count": 43,
   "id": "8740ae51",
   "metadata": {},
   "outputs": [],
   "source": [
    "def loadTweets(file='Tweets.json'):\n",
    "    f=open(file,encoding='utf-8', errors ='ignore', mode='r')\n",
    "    T=f.readlines();f.close()\n",
    "    for i,t in enumerate(T):\n",
    "        T[i] = json.loads(t.strip())\n",
    "    return T"
   ]
  },
  {
   "cell_type": "code",
   "execution_count": 47,
   "id": "85f2638f",
   "metadata": {},
   "outputs": [
    {
     "name": "stdout",
     "output_type": "stream",
     "text": [
      "tweet pertama oleh \"JanjiDjoni\" : \"@KelestarianAlam masyarakat kalimantan sangat mendukung ibukota baru. \n",
      "\n",
      "#IbukotaNegara\n",
      "#IKN\n",
      "#SemangatNusantara\"\n"
     ]
    }
   ],
   "source": [
    "# Me-load kembali jika (misal) analisa ingin dilakukan di lain waktu\n",
    "# Sengaja nama variabelnya saya bedakan (T2)\n",
    "T2 = loadTweets(file=fileName)\n",
    "print('tweet pertama oleh \"{}\" : \"{}\"'.format(T2[20]['user']['screen_name'],T2[20]['full_text']))"
   ]
  },
  {
   "cell_type": "code",
   "execution_count": 34,
   "id": "0b410b4d",
   "metadata": {},
   "outputs": [
    {
     "data": {
      "text/plain": [
       "dict_values(['{\"created_at\": \"Tue May 17 07:14:29 +0000 2022\"', ' \"id\": 1526461133900718080', ' \"id_str\": \"1526461133900718080\"', ' \"full_text\": \"Waw Bupati Edi Damansyah Serahkan Bantuan 59 Laptop ke Pelaku Penggerak Pertanian di Kutai Kartanegara https://t.co/TqrnZudqnW #Samarinda #menujupilwali2020 #kalimantantimur #bontang #sangatta #bulungan #malinau #kukar #balikpapan #penajam #ppu #ibukotabaru\"', ' \"truncated\": false', ' \"display_text_range\": [0', ' 257]', ' \"entities\": {\"hashtags\": [{\"text\": \"Samarinda\"', ' \"indices\": [127', ' 137]}', ' {\"text\": \"menujupilwali2020\"', ' \"indices\": [138', ' 156]}', ' {\"text\": \"kalimantantimur\"', ' \"indices\": [157', ' 173]}', ' {\"text\": \"bontang\"', ' \"indices\": [174', ' 182]}', ' {\"text\": \"sangatta\"', ' \"indices\": [183', ' 192]}', ' {\"text\": \"bulungan\"', ' \"indices\": [193', ' 202]}', ' {\"text\": \"malinau\"', ' \"indices\": [203', ' 211]}', ' {\"text\": \"kukar\"', ' \"indices\": [212', ' 218]}', ' {\"text\": \"balikpapan\"', ' \"indices\": [219', ' 230]}', ' {\"text\": \"penajam\"', ' \"indices\": [231', ' 239]}', ' {\"text\": \"ppu\"', ' \"indices\": [240', ' 244]}', ' {\"text\": \"ibukotabaru\"', ' \"indices\": [245', ' 257]}]', ' \"symbols\": []', ' \"user_mentions\": []', ' \"urls\": [{\"url\": \"https://t.co/TqrnZudqnW\"', ' \"expanded_url\": \"https://ift.tt/xBRXcVF\"', ' \"display_url\": \"ift.tt/xBRXcVF\"', ' \"indices\": [103', ' 126]}]}', ' \"metadata\": {\"iso_language_code\": \"in\"', ' \"result_type\": \"recent\"}', ' \"source\": \"<a href=\\\\\"https://ifttt.com\\\\\" rel=\\\\\"nofollow\\\\\">IFTTT</a>\"', ' \"in_reply_to_status_id\": null', ' \"in_reply_to_status_id_str\": null', ' \"in_reply_to_user_id\": null', ' \"in_reply_to_user_id_str\": null', ' \"in_reply_to_screen_name\": null', ' \"user\": {\"id\": 2838256116', ' \"id_str\": \"2838256116\"', ' \"name\": \"#MenujuPilkada2024\"', ' \"screen_name\": \"reportaseSMR\"', ' \"location\": \"samarinda\"', ' \"description\": \"Berusaha #Realtime Melaporkan Kejadian #samarinda | Twit info dgn awali @ReportaseSMR | Free Ads (IKLAN) via DM only\"', ' \"url\": null', ' \"entities\": {\"description\": {\"urls\": []}}', ' \"protected\": false', ' \"followers_count\": 579', ' \"friends_count\": 780', ' \"listed_count\": 8', ' \"created_at\": \"Thu Oct 02 18:34:37 +0000 2014\"', ' \"favourites_count\": 91', ' \"utc_offset\": null', ' \"time_zone\": null', ' \"geo_enabled\": false', ' \"verified\": false', ' \"statuses_count\": 124423', ' \"lang\": null', ' \"contributors_enabled\": false', ' \"is_translator\": false', ' \"is_translation_enabled\": false', ' \"profile_background_color\": \"C0DEED\"', ' \"profile_background_image_url\": \"http://abs.twimg.com/images/themes/theme1/bg.png\"', ' \"profile_background_image_url_https\": \"https://abs.twimg.com/images/themes/theme1/bg.png\"', ' \"profile_background_tile\": false', ' \"profile_image_url\": \"http://pbs.twimg.com/profile_images/573641830698348546/Zzz50glp_normal.jpeg\"', ' \"profile_image_url_https\": \"https://pbs.twimg.com/profile_images/573641830698348546/Zzz50glp_normal.jpeg\"', ' \"profile_banner_url\": \"https://pbs.twimg.com/profile_banners/2838256116/1425601792\"', ' \"profile_link_color\": \"1DA1F2\"', ' \"profile_sidebar_border_color\": \"C0DEED\"', ' \"profile_sidebar_fill_color\": \"DDEEF6\"', ' \"profile_text_color\": \"333333\"', ' \"profile_use_background_image\": true', [' \"has_extended_profile\": false', ' \"default_profile\": true', ' \"default_profile_image\": false', ' \"following\": false', ' \"follow_request_sent\": false', ' \"notifications\": false', ' \"translator_type\": \"none\"', ' \"withheld_in_countries\": []}', ' \"geo\": null', ' \"coordinates\": null', ' \"place\": null', ' \"contributors\": null', ' \"is_quote_status\": false', ' \"retweet_count\": 0', ' \"favorite_count\": 0', ' \"favorited\": false', ' \"retweeted\": false', ' \"possibly_sensitive\": false', ' \"lang\": \"in\"}']])"
      ]
     },
     "execution_count": 34,
     "metadata": {},
     "output_type": "execute_result"
    }
   ],
   "source": [
    "row.values()"
   ]
  },
  {
   "cell_type": "code",
   "execution_count": 35,
   "id": "de898cee",
   "metadata": {},
   "outputs": [
    {
     "data": {
      "text/plain": [
       "'(\\'{\"created_at\": \"Tue May 17 07:14:29 +0000 2022\"\\', \\' \"id\": 1526461133900718080\\', \\' \"id_str\": \"1526461133900718080\"\\', \\' \"full_text\": \"Waw Bupati Edi Damansyah Serahkan Bantuan 59 Laptop ke Pelaku Penggerak Pertanian di Kutai Kartanegara https://t.co/TqrnZudqnW #Samarinda #menujupilwali2020 #kalimantantimur #bontang #sangatta #bulungan #malinau #kukar #balikpapan #penajam #ppu #ibukotabaru\"\\', \\' \"truncated\": false\\', \\' \"display_text_range\": [0\\', \\' 257]\\', \\' \"entities\": {\"hashtags\": [{\"text\": \"Samarinda\"\\', \\' \"indices\": [127\\', \\' 137]}\\', \\' {\"text\": \"menujupilwali2020\"\\', \\' \"indices\": [138\\', \\' 156]}\\', \\' {\"text\": \"kalimantantimur\"\\', \\' \"indices\": [157\\', \\' 173]}\\', \\' {\"text\": \"bontang\"\\', \\' \"indices\": [174\\', \\' 182]}\\', \\' {\"text\": \"sangatta\"\\', \\' \"indices\": [183\\', \\' 192]}\\', \\' {\"text\": \"bulungan\"\\', \\' \"indices\": [193\\', \\' 202]}\\', \\' {\"text\": \"malinau\"\\', \\' \"indices\": [203\\', \\' 211]}\\', \\' {\"text\": \"kukar\"\\', \\' \"indices\": [212\\', \\' 218]}\\', \\' {\"text\": \"balikpapan\"\\', \\' \"indices\": [219\\', \\' 230]}\\', \\' {\"text\": \"penajam\"\\', \\' \"indices\": [231\\', \\' 239]}\\', \\' {\"text\": \"ppu\"\\', \\' \"indices\": [240\\', \\' 244]}\\', \\' {\"text\": \"ibukotabaru\"\\', \\' \"indices\": [245\\', \\' 257]}]\\', \\' \"symbols\": []\\', \\' \"user_mentions\": []\\', \\' \"urls\": [{\"url\": \"https://t.co/TqrnZudqnW\"\\', \\' \"expanded_url\": \"https://ift.tt/xBRXcVF\"\\', \\' \"display_url\": \"ift.tt/xBRXcVF\"\\', \\' \"indices\": [103\\', \\' 126]}]}\\', \\' \"metadata\": {\"iso_language_code\": \"in\"\\', \\' \"result_type\": \"recent\"}\\', \\' \"source\": \"<a href=\\\\\\\\\"https://ifttt.com\\\\\\\\\" rel=\\\\\\\\\"nofollow\\\\\\\\\">IFTTT</a>\"\\', \\' \"in_reply_to_status_id\": null\\', \\' \"in_reply_to_status_id_str\": null\\', \\' \"in_reply_to_user_id\": null\\', \\' \"in_reply_to_user_id_str\": null\\', \\' \"in_reply_to_screen_name\": null\\', \\' \"user\": {\"id\": 2838256116\\', \\' \"id_str\": \"2838256116\"\\', \\' \"name\": \"#MenujuPilkada2024\"\\', \\' \"screen_name\": \"reportaseSMR\"\\', \\' \"location\": \"samarinda\"\\', \\' \"description\": \"Berusaha #Realtime Melaporkan Kejadian #samarinda | Twit info dgn awali @ReportaseSMR | Free Ads (IKLAN) via DM only\"\\', \\' \"url\": null\\', \\' \"entities\": {\"description\": {\"urls\": []}}\\', \\' \"protected\": false\\', \\' \"followers_count\": 579\\', \\' \"friends_count\": 780\\', \\' \"listed_count\": 8\\', \\' \"created_at\": \"Thu Oct 02 18:34:37 +0000 2014\"\\', \\' \"favourites_count\": 91\\', \\' \"utc_offset\": null\\', \\' \"time_zone\": null\\', \\' \"geo_enabled\": false\\', \\' \"verified\": false\\', \\' \"statuses_count\": 124423\\', \\' \"lang\": null\\', \\' \"contributors_enabled\": false\\', \\' \"is_translator\": false\\', \\' \"is_translation_enabled\": false\\', \\' \"profile_background_color\": \"C0DEED\"\\', \\' \"profile_background_image_url\": \"http://abs.twimg.com/images/themes/theme1/bg.png\"\\', \\' \"profile_background_image_url_https\": \"https://abs.twimg.com/images/themes/theme1/bg.png\"\\', \\' \"profile_background_tile\": false\\', \\' \"profile_image_url\": \"http://pbs.twimg.com/profile_images/573641830698348546/Zzz50glp_normal.jpeg\"\\', \\' \"profile_image_url_https\": \"https://pbs.twimg.com/profile_images/573641830698348546/Zzz50glp_normal.jpeg\"\\', \\' \"profile_banner_url\": \"https://pbs.twimg.com/profile_banners/2838256116/1425601792\"\\', \\' \"profile_link_color\": \"1DA1F2\"\\', \\' \"profile_sidebar_border_color\": \"C0DEED\"\\', \\' \"profile_sidebar_fill_color\": \"DDEEF6\"\\', \\' \"profile_text_color\": \"333333\"\\', \\' \"profile_use_background_image\": true\\', [\\' \"has_extended_profile\": false\\', \\' \"default_profile\": true\\', \\' \"default_profile_image\": false\\', \\' \"following\": false\\', \\' \"follow_request_sent\": false\\', \\' \"notifications\": false\\', \\' \"translator_type\": \"none\"\\', \\' \"withheld_in_countries\": []}\\', \\' \"geo\": null\\', \\' \"coordinates\": null\\', \\' \"place\": null\\', \\' \"contributors\": null\\', \\' \"is_quote_status\": false\\', \\' \"retweet_count\": 0\\', \\' \"favorite_count\": 0\\', \\' \"favorited\": false\\', \\' \"retweeted\": false\\', \\' \"possibly_sensitive\": false\\', \\' \"lang\": \"in\"}\\'])'"
      ]
     },
     "execution_count": 35,
     "metadata": {},
     "output_type": "execute_result"
    }
   ],
   "source": [
    "str(tuple(row.values()))"
   ]
  },
  {
   "cell_type": "markdown",
   "id": "624be749",
   "metadata": {},
   "source": [
    "# # Penarikan Data tanggal 1 Mei 2022"
   ]
  },
  {
   "cell_type": "code",
   "execution_count": 7,
   "id": "beb2137f",
   "metadata": {},
   "outputs": [
    {
     "name": "stderr",
     "output_type": "stream",
     "text": [
      "1149it [00:44, 25.95it/s]\n"
     ]
    },
    {
     "data": {
      "text/plain": [
       "'Done'"
      ]
     },
     "execution_count": 7,
     "metadata": {},
     "output_type": "execute_result"
    }
   ],
   "source": [
    "qry = \"IbukotaBaru OR IKNNusantara OR IbuKotaBaruNUSANTARA OR SemangatNusantara OR (kalimantan AND ibukota AND baru) OR (ibukota AND negara AND baru) OR (IKN AND untuk AND Negeri)\"\n",
    "N = 5000 # jumlah N tweet \"terkini\" yang ingin diambil\n",
    "T = []\n",
    "for post in tqdm(tweepy.Cursor(api.search_tweets, q=qry, lang='id', tweet_mode='extended').items(N)):\n",
    "    T.append(post)\n",
    "    \n",
    "\"Done\""
   ]
  },
  {
   "cell_type": "code",
   "execution_count": 8,
   "id": "82777857",
   "metadata": {},
   "outputs": [
    {
     "name": "stdout",
     "output_type": "stream",
     "text": [
      " Berhasil mendapatkan 1149 tweets\n"
     ]
    }
   ],
   "source": [
    "# T bukan sekedar list of tweets \n",
    "tweet = [t._json for t in T]\n",
    "print(' Berhasil mendapatkan {} tweets'.format(len(tweet)))"
   ]
  },
  {
   "cell_type": "code",
   "execution_count": 20,
   "id": "458507dd",
   "metadata": {},
   "outputs": [
    {
     "data": {
      "text/plain": [
       "{'created_at': 'Wed Jun 01 09:33:00 +0000 2022',\n",
       " 'id': 1531931810799681538,\n",
       " 'id_str': '1531931810799681538',\n",
       " 'full_text': 'Kementerian ATR/BPN Jelaskan Patok Ilegal di IKN, Lahan Warga di Kawasan Inti IKN sudah Didata\\n \\n#IKN #IbuKotaNegara #IKNNusantara #PenajamPaserUtara #PPU #Kaltim #KalimantanTimur\\n\\nhttps://t.co/iuBsjyOIIL lewat @tribunkaltim',\n",
       " 'truncated': False,\n",
       " 'display_text_range': [0, 224],\n",
       " 'entities': {'hashtags': [{'text': 'IKN', 'indices': [97, 101]},\n",
       "   {'text': 'IbuKotaNegara', 'indices': [102, 116]},\n",
       "   {'text': 'IKNNusantara', 'indices': [117, 130]},\n",
       "   {'text': 'PenajamPaserUtara', 'indices': [131, 149]},\n",
       "   {'text': 'PPU', 'indices': [150, 154]},\n",
       "   {'text': 'Kaltim', 'indices': [155, 162]},\n",
       "   {'text': 'KalimantanTimur', 'indices': [163, 179]}],\n",
       "  'symbols': [],\n",
       "  'user_mentions': [{'screen_name': 'tribunkaltim',\n",
       "    'name': 'tribunkaltim',\n",
       "    'id': 103551225,\n",
       "    'id_str': '103551225',\n",
       "    'indices': [211, 224]}],\n",
       "  'urls': [{'url': 'https://t.co/iuBsjyOIIL',\n",
       "    'expanded_url': 'https://kaltim.tribunnews.com/2022/06/01/kementerian-atrbpn-jelaskan-patok-ilegal-di-ikn-lahan-warga-di-kawasan-inti-ikn-sudah-didata',\n",
       "    'display_url': 'kaltim.tribunnews.com/2022/06/01/kem…',\n",
       "    'indices': [181, 204]}]},\n",
       " 'metadata': {'iso_language_code': 'in', 'result_type': 'recent'},\n",
       " 'source': '<a href=\"https://mobile.twitter.com\" rel=\"nofollow\">Twitter Web App</a>',\n",
       " 'in_reply_to_status_id': None,\n",
       " 'in_reply_to_status_id_str': None,\n",
       " 'in_reply_to_user_id': None,\n",
       " 'in_reply_to_user_id_str': None,\n",
       " 'in_reply_to_screen_name': None,\n",
       " 'user': {'id': 103551225,\n",
       "  'id_str': '103551225',\n",
       "  'name': 'tribunkaltim',\n",
       "  'screen_name': 'tribunkaltim',\n",
       "  'location': 'Balikpapan, Indonesia',\n",
       "  'description': '',\n",
       "  'url': 'https://t.co/L2lk5RWmVa',\n",
       "  'entities': {'url': {'urls': [{'url': 'https://t.co/L2lk5RWmVa',\n",
       "      'expanded_url': 'http://kaltim.tribunnews.com/',\n",
       "      'display_url': 'kaltim.tribunnews.com',\n",
       "      'indices': [0, 23]}]},\n",
       "   'description': {'urls': []}},\n",
       "  'protected': False,\n",
       "  'followers_count': 31895,\n",
       "  'friends_count': 3584,\n",
       "  'listed_count': 146,\n",
       "  'created_at': 'Sun Jan 10 11:53:59 +0000 2010',\n",
       "  'favourites_count': 70,\n",
       "  'utc_offset': None,\n",
       "  'time_zone': None,\n",
       "  'geo_enabled': True,\n",
       "  'verified': False,\n",
       "  'statuses_count': 300714,\n",
       "  'lang': None,\n",
       "  'contributors_enabled': False,\n",
       "  'is_translator': False,\n",
       "  'is_translation_enabled': False,\n",
       "  'profile_background_color': 'C0DEED',\n",
       "  'profile_background_image_url': 'http://abs.twimg.com/images/themes/theme1/bg.png',\n",
       "  'profile_background_image_url_https': 'https://abs.twimg.com/images/themes/theme1/bg.png',\n",
       "  'profile_background_tile': False,\n",
       "  'profile_image_url': 'http://pbs.twimg.com/profile_images/1523215819689250816/UNQsnLDZ_normal.jpg',\n",
       "  'profile_image_url_https': 'https://pbs.twimg.com/profile_images/1523215819689250816/UNQsnLDZ_normal.jpg',\n",
       "  'profile_banner_url': 'https://pbs.twimg.com/profile_banners/103551225/1652959829',\n",
       "  'profile_link_color': 'E81C4F',\n",
       "  'profile_sidebar_border_color': 'C0DEED',\n",
       "  'profile_sidebar_fill_color': 'F7B53B',\n",
       "  'profile_text_color': '333333',\n",
       "  'profile_use_background_image': True,\n",
       "  'has_extended_profile': True,\n",
       "  'default_profile': False,\n",
       "  'default_profile_image': False,\n",
       "  'following': False,\n",
       "  'follow_request_sent': False,\n",
       "  'notifications': False,\n",
       "  'translator_type': 'none',\n",
       "  'withheld_in_countries': []},\n",
       " 'geo': None,\n",
       " 'coordinates': None,\n",
       " 'place': None,\n",
       " 'contributors': None,\n",
       " 'is_quote_status': False,\n",
       " 'retweet_count': 0,\n",
       " 'favorite_count': 0,\n",
       " 'favorited': False,\n",
       " 'retweeted': False,\n",
       " 'possibly_sensitive': False,\n",
       " 'lang': 'in'}"
      ]
     },
     "execution_count": 20,
     "metadata": {},
     "output_type": "execute_result"
    }
   ],
   "source": [
    "T[0]._json"
   ]
  },
  {
   "cell_type": "code",
   "execution_count": 9,
   "id": "542c1e17",
   "metadata": {},
   "outputs": [
    {
     "name": "stdout",
     "output_type": "stream",
     "text": [
      "tweet pertama oleh \"pendekar58\" : \"RT @regar_0p0sisi: Memindahkan ibukota berarti mencabut sejarah terbentuknya NKRI. \n",
      "Negara kalah dgn segerombolan pengusaha yg punya kepent…\"\n"
     ]
    }
   ],
   "source": [
    "print('tweet pertama oleh \"{}\" : \"{}\"'.format(tweet[0]['user']['screen_name'],tweet[0]['full_text']))"
   ]
  },
  {
   "cell_type": "code",
   "execution_count": 10,
   "id": "c8f6aa35",
   "metadata": {},
   "outputs": [],
   "source": [
    "import json \n",
    "def saveTweets(tweets, file='Tweets.json'): #in Json Format\n",
    "    with open(file, 'w') as f:\n",
    "        for t in tweets:\n",
    "            try:\n",
    "                f.write(json.dumps(t)+'\\n')\n",
    "            except:\n",
    "                pass"
   ]
  },
  {
   "cell_type": "code",
   "execution_count": 11,
   "id": "a0d01be8",
   "metadata": {},
   "outputs": [
    {
     "name": "stdout",
     "output_type": "stream",
     "text": [
      "Saved to Tweets_5.json\n"
     ]
    }
   ],
   "source": [
    "# Menyimpan hasil crawling twitter\n",
    "fileName = 'Tweets_5.json'\n",
    "saveTweets(tweet, file=fileName)\n",
    "print('Saved to '+fileName)"
   ]
  },
  {
   "cell_type": "code",
   "execution_count": 12,
   "id": "89ff96cf",
   "metadata": {},
   "outputs": [],
   "source": [
    "import csv\n",
    "def saveTweetsCsv(tweets, file='Tweets.csv'): #in csv Format\n",
    "    with open(file, 'w') as f:\n",
    "        for t in tweets:\n",
    "            try:\n",
    "                f.write(csv.dumps(t)+'\\n')\n",
    "            except:\n",
    "                pass"
   ]
  },
  {
   "cell_type": "code",
   "execution_count": 13,
   "id": "1febc810",
   "metadata": {},
   "outputs": [
    {
     "name": "stdout",
     "output_type": "stream",
     "text": [
      "Saved to Tweets_5.csv\n"
     ]
    }
   ],
   "source": [
    "# Menyimpan hasil crawling twitter\n",
    "fileName = 'Tweets_5.csv'\n",
    "saveTweets(tweet, file=fileName)\n",
    "print('Saved to '+fileName)"
   ]
  },
  {
   "cell_type": "markdown",
   "id": "6af5ebef",
   "metadata": {},
   "source": [
    "## Penarikan Data tanggal 28 Juni 2022\n",
    "### Penarikan Data tanggal 17 Agustus 2022, 02/09/2022,\n",
    "### 07/09/2022 IKN Wujudkan Kemakmuran, BBM AND IKN\n",
    "### 12/09/2022 IKNPemerataanEkonomi, #IKNSejahterakanIndonesia, #IKNtingkatkanKesejahteraan, BBM AND IKN\n"
   ]
  },
  {
   "cell_type": "code",
   "execution_count": 1,
   "id": "a6b91d55",
   "metadata": {},
   "outputs": [
    {
     "data": {
      "text/plain": [
       "'Done'"
      ]
     },
     "execution_count": 1,
     "metadata": {},
     "output_type": "execute_result"
    }
   ],
   "source": [
    "import tweepy\n",
    "from tqdm import tqdm\n",
    "\"Done\""
   ]
  },
  {
   "cell_type": "code",
   "execution_count": 3,
   "id": "398fb9af",
   "metadata": {},
   "outputs": [
    {
     "name": "stdout",
     "output_type": "stream",
     "text": [
      "Welcome \"Nabila Lailika\" you are now connected to twitter server\n"
     ]
    }
   ],
   "source": [
    "auth = tweepy.auth.OAuthHandler(Ck, Cs)\n",
    "auth.set_access_token(At, As)\n",
    "api = tweepy.API(auth, wait_on_rate_limit=True, timeout=180, retry_count=5, retry_delay=3)\n",
    "usr_ = api.verify_credentials()\n",
    "print('Welcome \"{}\" you are now connected to twitter server'.format(usr_.name))"
   ]
  },
  {
   "cell_type": "code",
   "execution_count": 4,
   "id": "1cdb448d",
   "metadata": {},
   "outputs": [
    {
     "name": "stderr",
     "output_type": "stream",
     "text": [
      "2426it [01:49, 20.49it/s]Rate limit reached. Sleeping for: 790\n",
      "5014it [17:14, 21.93it/s]Rate limit reached. Sleeping for: 766\n",
      "7619it [31:53, 25.14it/s]Rate limit reached. Sleeping for: 787\n",
      "10000it [46:38,  3.57it/s]\n"
     ]
    },
    {
     "data": {
      "text/plain": [
       "'Done'"
      ]
     },
     "execution_count": 4,
     "metadata": {},
     "output_type": "execute_result"
    }
   ],
   "source": [
    "qry = \"(BBM AND IKN) OR IKNPemerataanEkonomi OR IKNSejahterakanIndonesia OR IKNtingkatkanKesejahteraan OR (kalimantan AND ibukota AND baru) OR (ibukota AND negara AND baru)\"\n",
    "N = 10000 # jumlah N tweet \"terkini\" yang ingin diambil\n",
    "T = []\n",
    "for post in tqdm(tweepy.Cursor(api.search_tweets, q=qry, lang='id', tweet_mode='extended').items(N)):\n",
    "    T.append(post)\n",
    "    \n",
    "\"Done\""
   ]
  },
  {
   "cell_type": "code",
   "execution_count": 5,
   "id": "4eb15298",
   "metadata": {},
   "outputs": [
    {
     "name": "stdout",
     "output_type": "stream",
     "text": [
      " Berhasil mendapatkan 10000 tweets\n"
     ]
    }
   ],
   "source": [
    "# T bukan sekedar list of tweets \n",
    "tweet = [t._json for t in T]\n",
    "print(' Berhasil mendapatkan {} tweets'.format(len(tweet)))"
   ]
  },
  {
   "cell_type": "code",
   "execution_count": 6,
   "id": "9fbb5f05",
   "metadata": {},
   "outputs": [
    {
     "name": "stdout",
     "output_type": "stream",
     "text": [
      "tweet pertama oleh \"Rianto890\" : \"Tokoh Adat Kalimantan Utara mendukung pembangunan IKN Nusantara\n",
      "#IKNSejahterakanIndonesia\n",
      "#IKNPemerataanEkonomi\n",
      "#IKNtingkatkanKesejahteraan https://t.co/4V8RPI6JAm\"\n"
     ]
    }
   ],
   "source": [
    "print('tweet pertama oleh \"{}\" : \"{}\"'.format(tweet[0]['user']['screen_name'],tweet[0]['full_text']))"
   ]
  },
  {
   "cell_type": "code",
   "execution_count": 7,
   "id": "9e6711bf",
   "metadata": {},
   "outputs": [],
   "source": [
    "import json \n",
    "def saveTweets(tweets, file='Tweets.json'): #in Json Format\n",
    "    with open(file, 'w') as f:\n",
    "        for t in tweets:\n",
    "            try:\n",
    "                f.write(json.dumps(t)+'\\n')\n",
    "            except:\n",
    "                pass"
   ]
  },
  {
   "cell_type": "code",
   "execution_count": 8,
   "id": "35ac6f2d",
   "metadata": {},
   "outputs": [
    {
     "name": "stdout",
     "output_type": "stream",
     "text": [
      "Saved to Tweets_13.json\n"
     ]
    }
   ],
   "source": [
    "# Menyimpan hasil crawling twitter\n",
    "fileName = 'Tweets_13.json'\n",
    "saveTweets(tweet, file=fileName)\n",
    "print('Saved to '+fileName)"
   ]
  },
  {
   "cell_type": "code",
   "execution_count": 5,
   "id": "32aab79d",
   "metadata": {},
   "outputs": [],
   "source": [
    "import csv\n",
    "def saveTweetsCsv(tweets, file='Tweets.csv'): #in csv Format\n",
    "    with open(file, 'w') as f:\n",
    "        for t in tweets:\n",
    "            try:\n",
    "                f.write(csv.dumps(t)+'\\n')\n",
    "            except:\n",
    "                pass"
   ]
  },
  {
   "cell_type": "code",
   "execution_count": 34,
   "id": "3f69ccd4",
   "metadata": {},
   "outputs": [
    {
     "name": "stdout",
     "output_type": "stream",
     "text": [
      "Saved to Tweets_6.csv\n"
     ]
    }
   ],
   "source": [
    "# Menyimpan hasil crawling twitter\n",
    "fileName = 'Tweets_6.csv'\n",
    "saveTweets(tweet, file=fileName)\n",
    "print('Saved to '+fileName)"
   ]
  },
  {
   "cell_type": "code",
   "execution_count": 4,
   "id": "7158eb38",
   "metadata": {},
   "outputs": [
    {
     "name": "stderr",
     "output_type": "stream",
     "text": [
      "2563it [02:33, 19.58it/s]Rate limit reached. Sleeping for: 747\n",
      "4539it [17:27,  4.33it/s]\n"
     ]
    },
    {
     "data": {
      "text/plain": [
       "'Done'"
      ]
     },
     "execution_count": 4,
     "metadata": {},
     "output_type": "execute_result"
    }
   ],
   "source": [
    "qry = \"(ikn AND smartcity AND indonesia) OR (IKN AND pelopor AND kemajuan) OR  (IKN AND potret AND kemajuan) OR (ibukota AND negara AND baru) OR (ibukota AND nusantara)\"\n",
    "N = 10000 # jumlah N tweet \"terkini\" yang ingin diambil\n",
    "T = []\n",
    "for post in tqdm(tweepy.Cursor(api.search_tweets, q=qry, lang='id', tweet_mode='extended').items(N)):\n",
    "    T.append(post)\n",
    "    \n",
    "\"Done\""
   ]
  },
  {
   "cell_type": "code",
   "execution_count": 5,
   "id": "f6126f91",
   "metadata": {
    "scrolled": true
   },
   "outputs": [
    {
     "name": "stdout",
     "output_type": "stream",
     "text": [
      " Berhasil mendapatkan 4539 tweets\n",
      "tweet pertama oleh \"Gulugul34860584\" : \"Bangun ibukota sepaku maju dan sejahtera IKN Nusantara https://t.co/qjmpoVqL8L\"\n"
     ]
    }
   ],
   "source": [
    "# T bukan sekedar list of tweets \n",
    "tweet = [t._json for t in T]\n",
    "print(' Berhasil mendapatkan {} tweets'.format(len(tweet)))\n",
    "\n",
    "print('tweet pertama oleh \"{}\" : \"{}\"'.format(tweet[0]['user']['screen_name'],tweet[0]['full_text']))"
   ]
  },
  {
   "cell_type": "code",
   "execution_count": null,
   "id": "8cc25067",
   "metadata": {},
   "outputs": [],
   "source": []
  }
 ],
 "metadata": {
  "kernelspec": {
   "display_name": "Python 3",
   "language": "python",
   "name": "python3"
  },
  "language_info": {
   "codemirror_mode": {
    "name": "ipython",
    "version": 3
   },
   "file_extension": ".py",
   "mimetype": "text/x-python",
   "name": "python",
   "nbconvert_exporter": "python",
   "pygments_lexer": "ipython3",
   "version": "3.8.8"
  }
 },
 "nbformat": 4,
 "nbformat_minor": 5
}
