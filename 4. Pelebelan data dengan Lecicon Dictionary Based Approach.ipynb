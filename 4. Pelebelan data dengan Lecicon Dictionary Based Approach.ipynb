{
 "cells": [
  {
   "cell_type": "code",
   "execution_count": 1,
   "id": "d5d73341",
   "metadata": {},
   "outputs": [
    {
     "name": "stderr",
     "output_type": "stream",
     "text": [
      "C:\\Users\\Lenovo\\anaconda3\\lib\\site-packages\\scipy\\__init__.py:138: UserWarning: A NumPy version >=1.16.5 and <1.23.0 is required for this version of SciPy (detected version 1.24.0)\n",
      "  warnings.warn(f\"A NumPy version >={np_minversion} and <{np_maxversion} is required for this version of \"\n"
     ]
    }
   ],
   "source": [
    "import os\n",
    "from collections import OrderedDict\n",
    "import pandas as pd\n",
    "from nltk.sentiment.vader import SentimentIntensityAnalyzer\n",
    "import json\n",
    "import reprlib\n",
    "import seaborn as sns\n",
    "import matplotlib.pyplot as plt\n",
    "import numpy as np\n",
    "\n"
   ]
  },
  {
   "cell_type": "code",
   "execution_count": 3,
   "id": "9c9df0f2",
   "metadata": {},
   "outputs": [],
   "source": [
    "# Membaca data yang sudah dibersihkan dari karakter yang tidak diperlukan serta dari daftar kata tak baku dan stop words\n",
    "os.chdir(\"Output\")\n",
    "base = \"data_hasil_cleansing - filterisasi-penghilangan duplikasi data-slangSastrawi-stopWordSastrawati.txt\""
   ]
  },
  {
   "cell_type": "code",
   "execution_count": 3,
   "id": "3401c4f7",
   "metadata": {},
   "outputs": [
    {
     "name": "stdout",
     "output_type": "stream",
     "text": [
      "before: 12990\n",
      "after: 12244\n"
     ]
    }
   ],
   "source": [
    "#menghapus duplikat data\n",
    "\n",
    "input_stream = open(base, \"r\", encoding=\"'utf8'\")\n",
    "text = input_stream.readlines()\n",
    "input_stream.close()\n",
    "print(\"before:\", len(text))\n",
    "\n",
    "# menghapus duplikasi kalimat dengan mengonversinya ke 'ordered dictionary'\n",
    "newtext = list(OrderedDict.fromkeys(text))\n",
    "print(\"after:\", len(newtext))"
   ]
  },
  {
   "cell_type": "code",
   "execution_count": 4,
   "id": "565b41fa",
   "metadata": {},
   "outputs": [
    {
     "name": "stdout",
     "output_type": "stream",
     "text": [
      "['ikn indonesia maju ikn negeri\\n', 'gubernur pindah ibukota dorong turun senjang\\n']\n",
      "['ikn indonesia maju ikn negeri\\n', 'gubernur pindah ibukota dorong turun senjang\\n']\n"
     ]
    }
   ],
   "source": [
    "print(text[:2],)\n",
    "print(newtext[:2])"
   ]
  },
  {
   "cell_type": "code",
   "execution_count": 5,
   "id": "fb55a74d",
   "metadata": {},
   "outputs": [],
   "source": [
    "# Menyimpan teks yang sudah dibersihkan ke file\n",
    "output = os.path.splitext(base)[0]+'-dup.txt'\n",
    "with open(output, 'w') as f:\n",
    "    for line in newtext:\n",
    "        f.write(str(line))"
   ]
  },
  {
   "cell_type": "code",
   "execution_count": 6,
   "id": "2e167c22",
   "metadata": {},
   "outputs": [],
   "source": [
    "# data yang digunakan hanya data, tanpa kolom label\n",
    "Corpus = pd.read_csv(output, encoding='latin-1', header=None, names=['text'], usecols=['text'], dtype=str)"
   ]
  },
  {
   "cell_type": "code",
   "execution_count": 7,
   "id": "6caead3a",
   "metadata": {},
   "outputs": [
    {
     "data": {
      "text/plain": [
       "0                            ikn indonesia maju ikn negeri\n",
       "1             gubernur pindah ibukota dorong turun senjang\n",
       "2                     indonesia negara nusantara ibukotaku\n",
       "3                    indonesia negara nusantara ibukota ku\n",
       "4        pindah ibukota cabut sejarah bentuk nkri negar...\n",
       "                               ...                        \n",
       "12238    gera jokowi priode belah china indonesia ibuko...\n",
       "12239    gambar animsinya kyk anak kuliah arsitektur sm...\n",
       "12240    wakil ketua dprd rany mauliani salah upaya tah...\n",
       "12241    ngapain kereta cepat bandung klo thoh ibukota ...\n",
       "12242    bangun ikn nusantara perhati sejahtera duduk l...\n",
       "Name: text, Length: 12243, dtype: object"
      ]
     },
     "execution_count": 7,
     "metadata": {},
     "output_type": "execute_result"
    }
   ],
   "source": [
    "Corpus['text']"
   ]
  },
  {
   "cell_type": "markdown",
   "id": "e111e504",
   "metadata": {},
   "source": [
    "# #Pelabelan dengan InSet dan sentistrength_id"
   ]
  },
  {
   "cell_type": "code",
   "execution_count": 8,
   "id": "f11721cb",
   "metadata": {},
   "outputs": [
    {
     "name": "stdout",
     "output_type": "stream",
     "text": [
      "{'(barang) bekas': -4, '(olahraga) bokser': -5, '(tua) uzur': -3, 'Anda': -4, ...}\n",
      "{'(hujan) gerimis': 1, '(warna) dadu': 3, 'Ahad': 3, 'Sri paduka': 4, ...}\n",
      "{'abadi': 5, 'absen': -3, 'abu-abu': -1, 'acuh': 4, ...}\n"
     ]
    }
   ],
   "source": [
    "# Memanfaatkan nltk VADER untuk menggunakan leksikon kustom\n",
    "sia1A, sia1B, sia2 = SentimentIntensityAnalyzer(), SentimentIntensityAnalyzer(), SentimentIntensityAnalyzer()\n",
    "# membersihkan leksikon VADER default\n",
    "sia1A.lexicon.clear()\n",
    "sia1B.lexicon.clear()\n",
    "sia2.lexicon.clear()\n",
    "\n",
    "# Membaca leksikon InSet\n",
    "# Leksikon InSet lexicon dibagi menjadi dua, yakni polaritas negatif dan polaritas positif;\n",
    "# kita akan menggunakan nilai compound saja untuk memberi label pada suatu kalimat\n",
    "with open('../Dictionary/inset/_json_inset-neg.txt') as f:\n",
    "    data1A = f.read()\n",
    "with open('../Dictionary/inset/_json_inset-pos.txt') as f:\n",
    "    data1B = f.read()\n",
    "       \n",
    "# Membaca leksikon sentiwords_id\n",
    "with open('../Dictionary/sentistrength_id/_json_sentiwords_id.txt') as f:\n",
    "    data2 = f.read()\n",
    "\n",
    "\n",
    "# Mengubah leksikon sebagai dictionary\n",
    "insetNeg = json.loads(data1A)\n",
    "insetPos = json.loads(data1B)\n",
    "senti = json.loads(data2)\n",
    "\n",
    "# Update leksikon VADER yang sudah 'dimodifikasi'\n",
    "sia1A.lexicon.update(insetNeg)\n",
    "sia1B.lexicon.update(insetPos)\n",
    "sia2.lexicon.update(senti)\n",
    "\n",
    "print(reprlib.repr(sia1A.lexicon))\n",
    "print(reprlib.repr(sia1B.lexicon))\n",
    "print(reprlib.repr(sia2.lexicon))"
   ]
  },
  {
   "cell_type": "markdown",
   "id": "c2131334",
   "metadata": {},
   "source": [
    "### Contoh: menghitung skor polaritas dari suatu kalimat"
   ]
  },
  {
   "cell_type": "code",
   "execution_count": 9,
   "id": "b8ad9bd6",
   "metadata": {},
   "outputs": [
    {
     "name": "stdout",
     "output_type": "stream",
     "text": [
      "insetNeg:  {'neg': 0.375, 'neu': 0.625, 'pos': 0.0, 'compound': -0.7184}\n",
      "insetPos:  {'neg': 0.0, 'neu': 0.474, 'pos': 0.526, 'compound': 0.875}\n",
      "insetCpdSum: 'compound': 0.15659999999999996\n",
      "senti\t:  {'neg': 0.0, 'neu': 0.688, 'pos': 0.312, 'compound': 0.7184}\n"
     ]
    }
   ],
   "source": [
    "sample = \"bangun ikn nusantara dampak positif utama tingkat ekonomi indonesia suara sumatera utara\"\n",
    "print(\"insetNeg: \", sia1A.polarity_scores(sample))\n",
    "print(\"insetPos: \", sia1B.polarity_scores(sample))\n",
    "print(\"insetCpdSum: 'compound':\", sia1A.polarity_scores(sample)[\"compound\"] + sia1B.polarity_scores(sample)[\"compound\"])\n",
    "\n",
    "print(\"senti\\t: \", sia2.polarity_scores(sample))"
   ]
  },
  {
   "cell_type": "markdown",
   "id": "3bfb3b41",
   "metadata": {},
   "source": [
    "### Fungsi untuk mengklasifikasikan kalimat sebagai negatif/positif berdasarkan nilai compound"
   ]
  },
  {
   "cell_type": "code",
   "execution_count": 10,
   "id": "a3df3782",
   "metadata": {},
   "outputs": [],
   "source": [
    "def is_positive_inset(tweet: str) -> bool:\n",
    "    \"\"\"True if tweet has positive compound sentiment, False otherwise.\"\"\"\n",
    "    return sia1A.polarity_scores(tweet)[\"compound\"] + sia1B.polarity_scores(tweet)[\"compound\"] > 0\n",
    "\n",
    "def is_positive_senti(tweet: str) -> bool:\n",
    "    \"\"\"True if tweet has positive compound sentiment, False otherwise.\"\"\"\n",
    "    return sia2.polarity_scores(tweet)[\"compound\"] > 0"
   ]
  },
  {
   "cell_type": "code",
   "execution_count": 11,
   "id": "e940c3e2",
   "metadata": {},
   "outputs": [],
   "source": [
    "tweets = Corpus[\"text\"]\n",
    "\n",
    "# Menulis hasil klasifikasi label untuk setiap kalimat berdasarkan nilai compound dari insetNeg dan insetPos\n",
    "output = os.path.splitext(base)[0]+'-lb-inset.txt'\n",
    "with open(output, 'w') as f:\n",
    "    for tweet in tweets:\n",
    "        if is_positive_inset(tweet) == True:\n",
    "            label = \"pos\"\n",
    "        else:\n",
    "            label = \"neg\"\n",
    "        f.write(str(label+'\\n'))\n",
    "\n",
    "# Menulis hasil klasifikasi label untuk setiap kalimat berdasarkan nilai compound dari SentiStrength\n",
    "output = os.path.splitext(base)[0]+'-lb-senti.txt'\n",
    "with open(output, 'w') as f:\n",
    "    for tweet in tweets:\n",
    "        if is_positive_senti(tweet) == True:\n",
    "            label = \"pos\"\n",
    "        else:\n",
    "            label = \"neg\"\n",
    "        f.write(str(label+'\\n'))"
   ]
  },
  {
   "cell_type": "markdown",
   "id": "f0d9c291",
   "metadata": {},
   "source": [
    "# Jumlah Data: Sebelum & Sesudah Pra-processing"
   ]
  },
  {
   "cell_type": "code",
   "execution_count": 4,
   "id": "0f5178ac",
   "metadata": {},
   "outputs": [],
   "source": [
    "# Pastikan untuk mengganti path dengan absolute path direktorimu jika baris berikut dijalankan ulang, atau restart kernel.\n",
    "os.chdir('../Dataset')\n",
    "# menentukan lokasi data awal yang memuat kelas kata negatif dan positif\n",
    "base1 = 'data hasil crawling juni-september.csv'\n",
    "LB = pd.read_csv(base1, header=None, dtype=str)\n",
    "\n",
    "os.chdir('../output')\n",
    "# data setelah prapengolahan\n",
    "base2 = 'data_hasil_cleansing - filterisasi-penghilangan duplikasi data-slangSastrawi-stopWordSastrawati-lb-senti.txt'\n",
    "Lb = pd.read_csv(base2, header=None, dtype=str)"
   ]
  },
  {
   "cell_type": "code",
   "execution_count": 6,
   "id": "809aea25",
   "metadata": {},
   "outputs": [
    {
     "data": {
      "image/png": "[encoded data removed]",
      "text/plain": [
       "<Figure size 432x288 with 1 Axes>"
      ]
     },
     "metadata": {
      "needs_background": "light"
     },
     "output_type": "display_data"
    }
   ],
   "source": [
    "vol = [['Sebelum Pre-processing', len(LB)],\n",
    "       ['Setelah Pre-processing', len(Lb)]]\n",
    "\n",
    "df = pd.DataFrame(vol, columns=['dt_type', 'dt_vol'])\n",
    "\n",
    "sns.set_palette('PuBu',2)\n",
    "ax = sns.barplot(data=df.reset_index(), x='dt_type', y='dt_vol')\n",
    "ax.set_ylabel('Jumlah')\n",
    "ax.set_xlabel('')\n",
    "ax.set_title('Perbandingan Data hasil Pre-processing', fontsize=15)\n",
    "ax.yaxis.set_ticks(np.arange(0, 45000, 5000))\n",
    "\n",
    "# plt.savefig('plot1-data_volume.png')\n",
    "plt.show()"
   ]
  },
  {
   "cell_type": "code",
   "execution_count": 23,
   "id": "c3426dfc",
   "metadata": {},
   "outputs": [
    {
     "data": {
      "text/plain": [
       "42608"
      ]
     },
     "execution_count": 23,
     "metadata": {},
     "output_type": "execute_result"
    }
   ],
   "source": [
    "len(LB) \n"
   ]
  },
  {
   "cell_type": "markdown",
   "id": "71095fe6",
   "metadata": {},
   "source": [
    "# Distribusi Kelas Negatif & Positif"
   ]
  },
  {
   "cell_type": "code",
   "execution_count": 14,
   "id": "d96fda4f",
   "metadata": {},
   "outputs": [
    {
     "name": "stdout",
     "output_type": "stream",
     "text": [
      "      InSet sentistrength_id\n",
      "0       neg              pos\n",
      "1       neg              neg\n",
      "2       neg              neg\n",
      "3       neg              neg\n",
      "4       neg              neg\n",
      "...     ...              ...\n",
      "12238   neg              neg\n",
      "12239   pos              neg\n",
      "12240   neg              neg\n",
      "12241   neg              pos\n",
      "12242   neg              neg\n",
      "\n",
      "[12243 rows x 2 columns]\n"
     ]
    }
   ],
   "source": [
    "lb_inset = 'data_hasil_cleansing - filterisasi-penghilangan duplikasi data-slangSastrawi-stopWordSastrawati-lb-inset.txt'\n",
    "lb_senti = 'data_hasil_cleansing - filterisasi-penghilangan duplikasi data-slangSastrawi-stopWordSastrawati-lb-senti.txt'\n",
    "\n",
    "#x0 = pd.read_csv(lb_actual, header=None,names=['text'], usecols=['label'])\n",
    "x1 = pd.read_csv(lb_inset, header=None, names=['label'])\n",
    "x2 = pd.read_csv(lb_senti, header=None, names=['label'])\n",
    "\n",
    "\n",
    "df = pd.DataFrame()\n",
    "df.insert(0, 'InSet', x1['label'])\n",
    "df.insert(1, 'sentistrength_id', x2['label'])\n",
    "#\n",
    "print(df)"
   ]
  },
  {
   "cell_type": "code",
   "execution_count": 15,
   "id": "0e02bd91",
   "metadata": {},
   "outputs": [
    {
     "name": "stdout",
     "output_type": "stream",
     "text": [
      "negatives: 4981 , positives: 7262 , total: 12243 \t| inSet\n",
      "negatives: 5053 , positives: 7190 , total: 12243 \t| senti\n",
      "40.68 : 59.32 \t| inSet\n",
      "41.27 : 58.73 \t| senti\n"
     ]
    }
   ],
   "source": [
    "neg1 = df['InSet'].str.count('neg').sum()\n",
    "pos1 = df['InSet'].str.count('pos').sum()\n",
    "sum1 = neg1+pos1\n",
    "\n",
    "neg2 = df['sentistrength_id'].str.count('neg').sum()\n",
    "pos2 = df['sentistrength_id'].str.count('pos').sum()\n",
    "sum2 = neg2+pos2\n",
    "\n",
    "print('negatives:',neg1,', positives:',pos1,', total:',sum1, '\\t| inSet')\n",
    "print('negatives:',neg2,', positives:',pos2,', total:',sum2, '\\t| senti')\n",
    "\n",
    "print('{:.2f}'.format(neg1/sum1*100),':', '{:.2f}'.format(pos1/sum1*100), '\\t| inSet')\n",
    "print('{:.2f}'.format(neg2/sum2*100),':', '{:.2f}'.format(pos2/sum2*100), '\\t| senti')"
   ]
  },
  {
   "cell_type": "code",
   "execution_count": 41,
   "id": "3c01ae2f",
   "metadata": {},
   "outputs": [
    {
     "data": {
      "image/png": "[encoded data removed]",
      "text/plain": [
       "<Figure size 360x360 with 1 Axes>"
      ]
     },
     "metadata": {},
     "output_type": "display_data"
    }
   ],
   "source": [
    "# Pie chart, where the slices will be ordered and plotted counter-clockwise:\n",
    "labels = 'Negatif', 'Positive'\n",
    "sizes = [40.68, 59.32]\n",
    "colors = ('#EA5D3F', '#AECD65')\n",
    "\n",
    "fig = plt.figure(figsize=(5,5))\n",
    "ax = plt.axes()\n",
    "ax.pie(sizes, labels = labels, autopct='%.2f%%', colors=colors, textprops={'fontsize': 12})\n",
    "ax.set_title('Lexicon InSet', fontsize=15)\n",
    "plt.show()"
   ]
  },
  {
   "cell_type": "code",
   "execution_count": 46,
   "id": "94444fbe",
   "metadata": {},
   "outputs": [
    {
     "data": {
      "image/png": "[encoded data removed]",
      "text/plain": [
       "<Figure size 360x360 with 1 Axes>"
      ]
     },
     "metadata": {},
     "output_type": "display_data"
    }
   ],
   "source": [
    "# Pie chart, where the slices will be ordered and plotted counter-clockwise:\n",
    "labels = 'Negatif', 'Positive'\n",
    "sizes = [41.27, 58.73]\n",
    "colors = ('#EA5D3F', '#AECD65')\n",
    "\n",
    "fig = plt.figure(figsize=(5,5))\n",
    "ax = plt.axes()\n",
    "ax.pie(sizes, labels = labels, autopct='%.2f%%', colors=colors,  textprops={'fontsize': 12})\n",
    "ax.set_title('Lexicon SentiStrength', fontsize=15)\n",
    "plt.show()"
   ]
  },
  {
   "cell_type": "code",
   "execution_count": 16,
   "id": "eb01b924",
   "metadata": {},
   "outputs": [
    {
     "data": {
      "image/png": "[encoded data removed]",
      "text/plain": [
       "<Figure size 432x288 with 1 Axes>"
      ]
     },
     "metadata": {
      "needs_background": "light"
     },
     "output_type": "display_data"
    }
   ],
   "source": [
    "sns.set_palette('Blues_r', 2)\n",
    "ax = sns.countplot(x='variable', hue='value', data=pd.melt(df))\n",
    "\n",
    "ax.set_ylabel('Volume')\n",
    "ax.set_xlabel('')\n",
    "ax.legend().set_title('')\n",
    "ax.yaxis.set_ticks(np.arange(1000, 8000, 500))\n",
    "lgd = ax.legend(['Negatif', 'Positif'], loc='lower center', bbox_to_anchor=(0.5,-0.2), borderaxespad=0., ncol=2)\n",
    "\n",
    "## *Catatan: bbox_extra_artists harus berupa iterasi\n",
    "# plt.savefig('plot2-label_class_distribution.png', bbox_extra_artists=(lgd,), bbox_inches='tight')\n",
    "plt.show()"
   ]
  },
  {
   "cell_type": "code",
   "execution_count": 17,
   "id": "428fed98",
   "metadata": {},
   "outputs": [
    {
     "name": "stdout",
     "output_type": "stream",
     "text": [
      "Current working directory: C:\\Users\\Lenovo\\Documents\\python\\Sentiment Analysis\\output\n"
     ]
    }
   ],
   "source": [
    "# Python program to explain os.getcwd() method\n",
    "\t\t\n",
    "# importing os module\n",
    "import os\n",
    "\t\n",
    "# Get the current working\n",
    "# directory (CWD)\n",
    "cwd = os.getcwd()\n",
    "\t\n",
    "# Print the current working\n",
    "# directory (CWD)\n",
    "print(\"Current working directory:\", cwd)"
   ]
  },
  {
   "cell_type": "code",
   "execution_count": null,
   "id": "8f700358",
   "metadata": {},
   "outputs": [],
   "source": []
  },
  {
   "cell_type": "code",
   "execution_count": null,
   "id": "e933b608",
   "metadata": {},
   "outputs": [],
   "source": []
  },
  {
   "cell_type": "code",
   "execution_count": null,
   "id": "253389a7",
   "metadata": {},
   "outputs": [],
   "source": []
  },
  {
   "cell_type": "code",
   "execution_count": null,
   "id": "50d6c59f",
   "metadata": {},
   "outputs": [],
   "source": []
  }
 ],
 "metadata": {
  "kernelspec": {
   "display_name": "Python 3",
   "language": "python",
   "name": "python3"
  },
  "language_info": {
   "codemirror_mode": {
    "name": "ipython",
    "version": 3
   },
   "file_extension": ".py",
   "mimetype": "text/x-python",
   "name": "python",
   "nbconvert_exporter": "python",
   "pygments_lexer": "ipython3",
   "version": "3.8.8"
  }
 },
 "nbformat": 4,
 "nbformat_minor": 5
}
