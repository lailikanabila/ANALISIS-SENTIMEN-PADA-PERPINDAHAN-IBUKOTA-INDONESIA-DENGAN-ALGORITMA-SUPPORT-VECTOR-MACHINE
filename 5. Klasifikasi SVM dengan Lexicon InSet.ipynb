{
 "cells": [
  {
   "cell_type": "code",
   "execution_count": 5,
   "id": "90d0ab48-0abb-4ada-9d89-8f04407446e1",
   "metadata": {},
   "outputs": [
    {
     "name": "stderr",
     "output_type": "stream",
     "text": [
      "C:\\Users\\Lenovo\\anaconda3\\lib\\site-packages\\scipy\\__init__.py:138: UserWarning: A NumPy version >=1.16.5 and <1.23.0 is required for this version of SciPy (detected version 1.24.0)\n",
      "  warnings.warn(f\"A NumPy version >={np_minversion} and <{np_maxversion} is required for this version of \"\n"
     ]
    }
   ],
   "source": [
    "import os\n",
    "import pandas as pd\n",
    "import numpy as np\n",
    "from nltk.tokenize import word_tokenize\n",
    "from statistics import mean, stdev\n",
    "from sklearn.preprocessing import LabelEncoder\n",
    "from sklearn.feature_extraction.text import CountVectorizer, TfidfVectorizer\n",
    "from sklearn import model_selection, svm\n",
    "from sklearn.metrics import accuracy_score\n",
    "from sklearn.svm import SVC\n",
    "from sklearn.metrics import confusion_matrix\n",
    "import seaborn as sns\n",
    "from sklearn.metrics import classification_report\n",
    "from sklearn.model_selection import KFold\n",
    "from sklearn.model_selection import cross_val_score\n",
    "from sklearn.model_selection import GridSearchCV\n",
    "from sklearn.metrics import f1_score, precision_score, recall_score\n",
    "import matplotlib.pyplot as plt\n",
    "\n",
    "## Ukuran plot besar\n",
    "# sns.reset_defaults()\n",
    "# Ukuran plot kecil\n",
    "sns.reset_orig()\n",
    "\n",
    "sns.set_style('whitegrid', {'grid.linestyle': '--'})\n",
    "\n"
   ]
  },
  {
   "cell_type": "code",
   "execution_count": 6,
   "id": "57f5fff9-9cc7-477a-a787-a4beb3fe9191",
   "metadata": {},
   "outputs": [],
   "source": [
    "np.random.seed(500)"
   ]
  },
  {
   "cell_type": "markdown",
   "id": "ac8cdfc4-c53b-405f-96aa-8c9362efab18",
   "metadata": {},
   "source": [
    "## Persiapan Input\n",
    "**Corpus** memuat teks yang sudah dibersihkan (di tahap prapengolahan).\n",
    "**LabelInset** memuat label teks dengan leksikon `InSet`.\n",
    "**LabelSenti** memuat label teks dengan leksikon `sentiStrength`"
   ]
  },
  {
   "cell_type": "code",
   "execution_count": 7,
   "id": "8a215f4a-968c-473d-9c26-e6047e996013",
   "metadata": {},
   "outputs": [],
   "source": [
    "# Pastikan untuk mengganti path dengan absolute path direktorimu jika baris berikut dijalankan ulang, atau restart kernel.\n",
    "os.chdir('output')\n",
    "base = 'data_hasil_cleansing - filterisasi-penghilangan duplikasi data-slangSastrawi-stopWordSastrawati-dup.txt'\n",
    "lb_inset = 'data_hasil_cleansing - filterisasi-penghilangan duplikasi data-slangSastrawi-stopWordSastrawati-lb-inset.txt'\n",
    "lb_senti = 'data_hasil_cleansing - filterisasi-penghilangan duplikasi data-slangSastrawi-stopWordSastrawati-lb-senti.txt'\n",
    "\n",
    "Corpus = pd.read_csv(base, encoding='latin-1', header=None, sep='\\t', names=['text'], dtype=str)\n",
    "LabelInset = pd.read_csv(lb_inset, encoding='latin-1', header=None, names=['label'], dtype=str)\n",
    "LabelSenti = pd.read_csv(lb_senti, encoding='latin-1', header=None, names=['label'], dtype=str)"
   ]
  },
  {
   "cell_type": "code",
   "execution_count": 8,
   "id": "8b2ebced-7d02-4f2e-9c49-1b11f633b355",
   "metadata": {},
   "outputs": [
    {
     "name": "stdout",
     "output_type": "stream",
     "text": [
      "neg: 4981 ( 40.68 %) \t pos: 7262 ( 59.32 %)  | inset\n",
      "neg: 5053 ( 41.27 %) \t pos: 7190 ( 58.73 %)  | senti\n"
     ]
    }
   ],
   "source": [
    "# Jumlah positif dan negatif dari setiap jenis pelabelan\n",
    "neg1, pos1 = (LabelInset['label'][LabelInset['label']=='neg']).count(), (LabelInset['label'][LabelInset['label']=='pos']).count()\n",
    "neg2, pos2 = (LabelSenti['label'][LabelSenti['label']=='neg']).count(), (LabelSenti['label'][LabelSenti['label']=='pos']).count()\n",
    "print('neg:', neg1, '(', '{0:.2f}'.format(neg1/(neg1+pos1)*100), '%)','\\t', 'pos:', pos1, '(', '{0:.2f}'.format(pos1/(neg1+pos1)*100),'%)',' | inset')\n",
    "print('neg:', neg2, '(', '{0:.2f}'.format(neg2/(neg2+pos2)*100), '%)','\\t', 'pos:', pos2, '(', '{0:.2f}'.format(pos2/(neg2+pos2)*100),'%)',' | senti')"
   ]
  },
  {
   "cell_type": "code",
   "execution_count": null,
   "id": "3c5348ed",
   "metadata": {},
   "outputs": [],
   "source": []
  },
  {
   "cell_type": "markdown",
   "id": "f8444630-b8ed-4222-9ffb-2030b8972d32",
   "metadata": {},
   "source": [
    "### **\\*Perhatian:** pilih salah satu jenis label sebagai *baseline* untuk proses selanjutnya"
   ]
  },
  {
   "cell_type": "code",
   "execution_count": 9,
   "id": "7d42e72e-3424-4c67-b420-363167eb8c7b",
   "metadata": {},
   "outputs": [],
   "source": [
    "## Menggunakan pelabelan dari InSet\n",
    "LL = LabelInset\n",
    "\n",
    "## Menggunakan pelabelan dari sentiwords_id\n",
    "# LL = LabelSenti"
   ]
  },
  {
   "cell_type": "code",
   "execution_count": 10,
   "id": "2a725dac-2339-4f35-9a87-3181bb2f4e04",
   "metadata": {},
   "outputs": [
    {
     "name": "stdout",
     "output_type": "stream",
     "text": [
      "                                           text\n",
      "0                 ikn indonesia maju ikn negeri\n",
      "1  gubernur pindah ibukota dorong turun senjang\n",
      "2          indonesia negara nusantara ibukotaku \n",
      "\n",
      "   label\n",
      "0   neg\n",
      "1   neg\n",
      "2   neg\n"
     ]
    }
   ],
   "source": [
    "print(Corpus[:3], '\\n\\n', LL[:3])"
   ]
  },
  {
   "cell_type": "code",
   "execution_count": null,
   "id": "5e582abd-8e38-4551-947a-faa27619d3ea",
   "metadata": {},
   "outputs": [],
   "source": []
  },
  {
   "cell_type": "markdown",
   "id": "5dcc8f60-34c9-4dd4-a53c-69dddc77d3b7",
   "metadata": {},
   "source": [
    "## Tokenisasi Teks"
   ]
  },
  {
   "cell_type": "code",
   "execution_count": 11,
   "id": "6ddd5ad0-8cd3-4d69-b0e6-dd291b7986c5",
   "metadata": {},
   "outputs": [],
   "source": [
    "# Step - a : Menghapus baris kosong, jika ada.\n",
    "Corpus['text'].dropna(inplace=True)\n",
    "# # Step - b : Mengganti semua teks ke karakter kecil karena 'oke' dan 'OKE' diinterpretasikan berbeda\n",
    "# Corpus['text'] = [entry.lower() for entry in Corpus['text']] # we've done this in '[1] text cleaning.ipynb'\n",
    "# Step - c : Tokenisasi : Setiap kalimat di dalam korpus akan dipecah menjadi daftar kata/string\n",
    "Corpus['text']= [word_tokenize(entry) for entry in Corpus['text']]\n",
    "\n",
    "for index,entry in enumerate(Corpus['text']):\n",
    "    # Mendeklarasikan list kosong untuk menyimpan daftar kata yang sesuai dengan aturan yang dibuat\n",
    "    Final_words = []\n",
    "    for word in entry:\n",
    "        # Kondisi di bawah adalah untuk mengecek/mempertimbangkan alfabet saja\n",
    "        if word.isalpha():\n",
    "            word_Final = word\n",
    "            Final_words.append(word_Final)\n",
    "    Corpus.loc[index,'text_final'] = str(Final_words)"
   ]
  },
  {
   "cell_type": "markdown",
   "id": "0c2c1ede-2a32-45c4-b903-849e62b5cbb3",
   "metadata": {},
   "source": [
    "<blockquote>Ref: <i>https://medium.com/@bedigunjit/simple-guide-to-text-classification-nlp-using-svm-and-naive-bayes-with-python-421db3a72d34</i></blockquote>"
   ]
  },
  {
   "cell_type": "code",
   "execution_count": 12,
   "id": "10a3e152-9069-49e2-ba4d-de372502365c",
   "metadata": {},
   "outputs": [
    {
     "name": "stdout",
     "output_type": "stream",
     "text": [
      "                                                text  \\\n",
      "0                [ikn, indonesia, maju, ikn, negeri]   \n",
      "1  [gubernur, pindah, ibukota, dorong, turun, sen...   \n",
      "2          [indonesia, negara, nusantara, ibukotaku]   \n",
      "\n",
      "                                          text_final  \n",
      "0      ['ikn', 'indonesia', 'maju', 'ikn', 'negeri']  \n",
      "1  ['gubernur', 'pindah', 'ibukota', 'dorong', 't...  \n",
      "2  ['indonesia', 'negara', 'nusantara', 'ibukotaku']  \n"
     ]
    }
   ],
   "source": [
    "print(Corpus[:3])"
   ]
  },
  {
   "cell_type": "code",
   "execution_count": null,
   "id": "f92bed30-d127-42fb-b3f0-434077c6bfd0",
   "metadata": {},
   "outputs": [],
   "source": []
  },
  {
   "cell_type": "markdown",
   "id": "84896dff-5a49-49c8-a37d-5796ac413ba7",
   "metadata": {},
   "source": [
    "## Split Data"
   ]
  },
  {
   "cell_type": "code",
   "execution_count": 13,
   "id": "8c5cb0f8-ea35-4fe1-a2aa-a921608b97f4",
   "metadata": {},
   "outputs": [],
   "source": [
    "# Membagi set data latih dan data uji dengan rasio 70:30\n",
    "Train_X, Test_X, Train_Y, Test_Y = model_selection.train_test_split(Corpus['text_final'],\n",
    "                                                                    LL['label'],test_size=0.3, random_state=42)"
   ]
  },
  {
   "cell_type": "code",
   "execution_count": 14,
   "id": "706454cf-944c-4cc5-9f91-e879e6f3e061",
   "metadata": {},
   "outputs": [
    {
     "name": "stdout",
     "output_type": "stream",
     "text": [
      "8570 0.6999918320673038 % \n",
      " 3673 0.30000816793269625 %\n"
     ]
    }
   ],
   "source": [
    "print(Train_X.size, Train_X.size/(Test_X.size+Train_X.size),'%','\\n',\n",
    "      Test_X.size, Test_X.size/(Test_X.size+Train_X.size),'%')"
   ]
  },
  {
   "cell_type": "code",
   "execution_count": 15,
   "id": "7227c351-e99d-4665-bec3-ef1d3a7af589",
   "metadata": {},
   "outputs": [],
   "source": [
    "# Encoding label menjadi nilai antara 0 and kelas_n-1\n",
    "Encoder = LabelEncoder()\n",
    "Train_Y = Encoder.fit_transform(Train_Y)\n",
    "Test_Y = Encoder.fit_transform(Test_Y)\n"
   ]
  },
  {
   "cell_type": "code",
   "execution_count": 16,
   "id": "c88b988e-12c5-4032-a2b7-dabf3bf5164d",
   "metadata": {},
   "outputs": [],
   "source": [
    "# print('TRAIN_X'+'\\n', Train_X, '\\n')\n",
    "# print('TEST_X'+'\\n', Test_X, '\\n')\n",
    "# print('TRAIN_Y'+'\\n', Train_Y, '\\n')\n",
    "# print('TEST_Y'+'\\n', Test_Y, '\\n')\n",
    "# # with np.printoptions():\n",
    "# #     print(Test_X[:17])"
   ]
  },
  {
   "cell_type": "code",
   "execution_count": null,
   "id": "b5873111-e7d9-484a-ae32-3d4fd6929957",
   "metadata": {},
   "outputs": [],
   "source": []
  },
  {
   "cell_type": "markdown",
   "id": "21751408-2796-436f-981f-2c7249f5d9be",
   "metadata": {},
   "source": [
    "# EKSTRAKSI FITUR: "
   ]
  },
  {
   "cell_type": "markdown",
   "id": "fadbb312",
   "metadata": {},
   "source": [
    "## *BoW*"
   ]
  },
  {
   "cell_type": "code",
   "execution_count": 17,
   "id": "8b06a28f-00b9-4a75-856b-893e397b0284",
   "metadata": {},
   "outputs": [],
   "source": [
    "vectorizer = CountVectorizer()\n",
    "X = vectorizer.fit_transform(Corpus['text_final'])"
   ]
  },
  {
   "cell_type": "code",
   "execution_count": 18,
   "id": "92b392c3-575f-416c-82bb-499751ea9694",
   "metadata": {},
   "outputs": [],
   "source": [
    "# Transform Train_X dan Test_X ke vektor BoW\n",
    "Train_X_BoW = vectorizer.transform(Train_X)\n",
    "Test_X_BoW = vectorizer.transform(Test_X)"
   ]
  },
  {
   "cell_type": "markdown",
   "id": "8d6dc1c9-76d2-47d4-9f95-c4be9b3ad93b",
   "metadata": {},
   "source": [
    "## *TF-IDF*"
   ]
  },
  {
   "cell_type": "code",
   "execution_count": 19,
   "id": "0dff5723-a40a-4e0d-ae4f-5b5292be2de6",
   "metadata": {},
   "outputs": [],
   "source": [
    "Tfidf_vect = TfidfVectorizer()\n",
    "Tfidf_vect.fit(Corpus['text_final'])\n",
    "\n",
    "X = Tfidf_vect.fit_transform(Corpus['text_final'])"
   ]
  },
  {
   "cell_type": "markdown",
   "id": "a5cdd665-7c8b-450c-9aa2-245c63cb0f9f",
   "metadata": {},
   "source": [
    "#### opsi lain yang bisa dipertimbangkan:\n",
    "\n",
    "<code> Tfidf_vect = TfidfVectorizer(max_features=None).fit(Corpus['text_final']) <code>\n",
    "<code> Tfidf_vect = TfidfVectorizer(max_features=5000).fit(Corpus['text_final']) <code>\n",
    "<code> Tfidf_vect = TfidfVectorizer(min_df=5, max_df=0.8, sublinear_tf=True, \\\n",
    "                    use_idf=True).fit(Corpus['text_final']) <code>"
   ]
  },
  {
   "cell_type": "code",
   "execution_count": 20,
   "id": "2e5a1a22-b140-4afb-8b77-549da4c8ae6a",
   "metadata": {},
   "outputs": [],
   "source": [
    "# Transform Train_X dan Test_X ke vektor TF-IDF\n",
    "Train_X_Tfidf = Tfidf_vect.transform(Train_X)\n",
    "Test_X_Tfidf = Tfidf_vect.transform(Test_X)"
   ]
  },
  {
   "cell_type": "code",
   "execution_count": null,
   "id": "71868419",
   "metadata": {},
   "outputs": [],
   "source": []
  },
  {
   "cell_type": "markdown",
   "id": "a2aec727",
   "metadata": {},
   "source": [
    "##  Hyperparameter Optimization using GridSearch CV"
   ]
  },
  {
   "cell_type": "code",
   "execution_count": 62,
   "id": "5cebe7d4",
   "metadata": {},
   "outputs": [
    {
     "data": {
      "text/html": [
       "<style>#sk-container-id-1 {color: black;background-color: white;}#sk-container-id-1 pre{padding: 0;}#sk-container-id-1 div.sk-toggleable {background-color: white;}#sk-container-id-1 label.sk-toggleable__label {cursor: pointer;display: block;width: 100%;margin-bottom: 0;padding: 0.3em;box-sizing: border-box;text-align: center;}#sk-container-id-1 label.sk-toggleable__label-arrow:before {content: \"▸\";float: left;margin-right: 0.25em;color: #696969;}#sk-container-id-1 label.sk-toggleable__label-arrow:hover:before {color: black;}#sk-container-id-1 div.sk-estimator:hover label.sk-toggleable__label-arrow:before {color: black;}#sk-container-id-1 div.sk-toggleable__content {max-height: 0;max-width: 0;overflow: hidden;text-align: left;background-color: #f0f8ff;}#sk-container-id-1 div.sk-toggleable__content pre {margin: 0.2em;color: black;border-radius: 0.25em;background-color: #f0f8ff;}#sk-container-id-1 input.sk-toggleable__control:checked~div.sk-toggleable__content {max-height: 200px;max-width: 100%;overflow: auto;}#sk-container-id-1 input.sk-toggleable__control:checked~label.sk-toggleable__label-arrow:before {content: \"▾\";}#sk-container-id-1 div.sk-estimator input.sk-toggleable__control:checked~label.sk-toggleable__label {background-color: #d4ebff;}#sk-container-id-1 div.sk-label input.sk-toggleable__control:checked~label.sk-toggleable__label {background-color: #d4ebff;}#sk-container-id-1 input.sk-hidden--visually {border: 0;clip: rect(1px 1px 1px 1px);clip: rect(1px, 1px, 1px, 1px);height: 1px;margin: -1px;overflow: hidden;padding: 0;position: absolute;width: 1px;}#sk-container-id-1 div.sk-estimator {font-family: monospace;background-color: #f0f8ff;border: 1px dotted black;border-radius: 0.25em;box-sizing: border-box;margin-bottom: 0.5em;}#sk-container-id-1 div.sk-estimator:hover {background-color: #d4ebff;}#sk-container-id-1 div.sk-parallel-item::after {content: \"\";width: 100%;border-bottom: 1px solid gray;flex-grow: 1;}#sk-container-id-1 div.sk-label:hover label.sk-toggleable__label {background-color: #d4ebff;}#sk-container-id-1 div.sk-serial::before {content: \"\";position: absolute;border-left: 1px solid gray;box-sizing: border-box;top: 0;bottom: 0;left: 50%;z-index: 0;}#sk-container-id-1 div.sk-serial {display: flex;flex-direction: column;align-items: center;background-color: white;padding-right: 0.2em;padding-left: 0.2em;position: relative;}#sk-container-id-1 div.sk-item {position: relative;z-index: 1;}#sk-container-id-1 div.sk-parallel {display: flex;align-items: stretch;justify-content: center;background-color: white;position: relative;}#sk-container-id-1 div.sk-item::before, #sk-container-id-1 div.sk-parallel-item::before {content: \"\";position: absolute;border-left: 1px solid gray;box-sizing: border-box;top: 0;bottom: 0;left: 50%;z-index: -1;}#sk-container-id-1 div.sk-parallel-item {display: flex;flex-direction: column;z-index: 1;position: relative;background-color: white;}#sk-container-id-1 div.sk-parallel-item:first-child::after {align-self: flex-end;width: 50%;}#sk-container-id-1 div.sk-parallel-item:last-child::after {align-self: flex-start;width: 50%;}#sk-container-id-1 div.sk-parallel-item:only-child::after {width: 0;}#sk-container-id-1 div.sk-dashed-wrapped {border: 1px dashed gray;margin: 0 0.4em 0.5em 0.4em;box-sizing: border-box;padding-bottom: 0.4em;background-color: white;}#sk-container-id-1 div.sk-label label {font-family: monospace;font-weight: bold;display: inline-block;line-height: 1.2em;}#sk-container-id-1 div.sk-label-container {text-align: center;}#sk-container-id-1 div.sk-container {/* jupyter's `normalize.less` sets `[hidden] { display: none; }` but bootstrap.min.css set `[hidden] { display: none !important; }` so we also need the `!important` here to be able to override the default hidden behavior on the sphinx rendered scikit-learn.org. See: https://github.com/scikit-learn/scikit-learn/issues/21755 */display: inline-block !important;position: relative;}#sk-container-id-1 div.sk-text-repr-fallback {display: none;}</style><div id=\"sk-container-id-1\" class=\"sk-top-container\"><div class=\"sk-text-repr-fallback\"><pre>GridSearchCV(cv=5, estimator=SVC(),\n",
       "             param_grid=[{&#x27;C&#x27;: [1, 100, 1000], &#x27;kernel&#x27;: [&#x27;linear&#x27;]},\n",
       "                         {&#x27;C&#x27;: [1, 100, 1000],\n",
       "                          &#x27;gamma&#x27;: [0.1, 0.2, 0.3, 0.4, 0.5, 0.6, 0.7, 0.8,\n",
       "                                    0.9],\n",
       "                          &#x27;kernel&#x27;: [&#x27;rbf&#x27;]},\n",
       "                         {&#x27;C&#x27;: [1, 100, 1000], &#x27;degree&#x27;: [2, 3, 4],\n",
       "                          &#x27;gamma&#x27;: [0.01, 0.02, 0.03, 0.04, 0.05],\n",
       "                          &#x27;kernel&#x27;: [&#x27;poly&#x27;]}],\n",
       "             scoring=&#x27;accuracy&#x27;)</pre><b>In a Jupyter environment, please rerun this cell to show the HTML representation or trust the notebook. <br />On GitHub, the HTML representation is unable to render, please try loading this page with nbviewer.org.</b></div><div class=\"sk-container\" hidden><div class=\"sk-item sk-dashed-wrapped\"><div class=\"sk-label-container\"><div class=\"sk-label sk-toggleable\"><input class=\"sk-toggleable__control sk-hidden--visually\" id=\"sk-estimator-id-1\" type=\"checkbox\" ><label for=\"sk-estimator-id-1\" class=\"sk-toggleable__label sk-toggleable__label-arrow\">GridSearchCV</label><div class=\"sk-toggleable__content\"><pre>GridSearchCV(cv=5, estimator=SVC(),\n",
       "             param_grid=[{&#x27;C&#x27;: [1, 100, 1000], &#x27;kernel&#x27;: [&#x27;linear&#x27;]},\n",
       "                         {&#x27;C&#x27;: [1, 100, 1000],\n",
       "                          &#x27;gamma&#x27;: [0.1, 0.2, 0.3, 0.4, 0.5, 0.6, 0.7, 0.8,\n",
       "                                    0.9],\n",
       "                          &#x27;kernel&#x27;: [&#x27;rbf&#x27;]},\n",
       "                         {&#x27;C&#x27;: [1, 100, 1000], &#x27;degree&#x27;: [2, 3, 4],\n",
       "                          &#x27;gamma&#x27;: [0.01, 0.02, 0.03, 0.04, 0.05],\n",
       "                          &#x27;kernel&#x27;: [&#x27;poly&#x27;]}],\n",
       "             scoring=&#x27;accuracy&#x27;)</pre></div></div></div><div class=\"sk-parallel\"><div class=\"sk-parallel-item\"><div class=\"sk-item\"><div class=\"sk-label-container\"><div class=\"sk-label sk-toggleable\"><input class=\"sk-toggleable__control sk-hidden--visually\" id=\"sk-estimator-id-2\" type=\"checkbox\" ><label for=\"sk-estimator-id-2\" class=\"sk-toggleable__label sk-toggleable__label-arrow\">estimator: SVC</label><div class=\"sk-toggleable__content\"><pre>SVC()</pre></div></div></div><div class=\"sk-serial\"><div class=\"sk-item\"><div class=\"sk-estimator sk-toggleable\"><input class=\"sk-toggleable__control sk-hidden--visually\" id=\"sk-estimator-id-3\" type=\"checkbox\" ><label for=\"sk-estimator-id-3\" class=\"sk-toggleable__label sk-toggleable__label-arrow\">SVC</label><div class=\"sk-toggleable__content\"><pre>SVC()</pre></div></div></div></div></div></div></div></div></div></div>"
      ],
      "text/plain": [
       "GridSearchCV(cv=5, estimator=SVC(),\n",
       "             param_grid=[{'C': [1, 100, 1000], 'kernel': ['linear']},\n",
       "                         {'C': [1, 100, 1000],\n",
       "                          'gamma': [0.1, 0.2, 0.3, 0.4, 0.5, 0.6, 0.7, 0.8,\n",
       "                                    0.9],\n",
       "                          'kernel': ['rbf']},\n",
       "                         {'C': [1, 100, 1000], 'degree': [2, 3, 4],\n",
       "                          'gamma': [0.01, 0.02, 0.03, 0.04, 0.05],\n",
       "                          'kernel': ['poly']}],\n",
       "             scoring='accuracy')"
      ]
     },
     "execution_count": 62,
     "metadata": {},
     "output_type": "execute_result"
    }
   ],
   "source": [
    "# instantiate classifier with default hyperparameters with kernel=rbf, C=1.0 and gamma=auto/scale\n",
    "svc=SVC() \n",
    "\n",
    "# declare parameters for hyperparameter tuning\n",
    "parameters = [ {'C':[1, 100, 1000], 'kernel':['linear']},\n",
    "               {'C':[1, 100, 1000], 'kernel':['rbf'], 'gamma':[0.1, 0.2, 0.3, 0.4, 0.5, 0.6, 0.7, 0.8, 0.9]},\n",
    "               {'C':[1, 100, 1000], 'kernel':['poly'], 'degree': [2,3,4] ,'gamma':[0.01,0.02,0.03,0.04,0.05]} \n",
    "              ]\n",
    "\n",
    "grid_search = GridSearchCV(estimator = svc,  \n",
    "                           param_grid = parameters,\n",
    "                           scoring = 'accuracy',\n",
    "                           cv = 5,\n",
    "                           verbose=0)\n",
    "\n",
    "\n",
    "#Train data BoW\n",
    "grid_search.fit(Train_X_BoW, Train_Y)"
   ]
  },
  {
   "cell_type": "code",
   "execution_count": 64,
   "id": "bf145534",
   "metadata": {},
   "outputs": [
    {
     "data": {
      "text/html": [
       "<style>#sk-container-id-2 {color: black;background-color: white;}#sk-container-id-2 pre{padding: 0;}#sk-container-id-2 div.sk-toggleable {background-color: white;}#sk-container-id-2 label.sk-toggleable__label {cursor: pointer;display: block;width: 100%;margin-bottom: 0;padding: 0.3em;box-sizing: border-box;text-align: center;}#sk-container-id-2 label.sk-toggleable__label-arrow:before {content: \"▸\";float: left;margin-right: 0.25em;color: #696969;}#sk-container-id-2 label.sk-toggleable__label-arrow:hover:before {color: black;}#sk-container-id-2 div.sk-estimator:hover label.sk-toggleable__label-arrow:before {color: black;}#sk-container-id-2 div.sk-toggleable__content {max-height: 0;max-width: 0;overflow: hidden;text-align: left;background-color: #f0f8ff;}#sk-container-id-2 div.sk-toggleable__content pre {margin: 0.2em;color: black;border-radius: 0.25em;background-color: #f0f8ff;}#sk-container-id-2 input.sk-toggleable__control:checked~div.sk-toggleable__content {max-height: 200px;max-width: 100%;overflow: auto;}#sk-container-id-2 input.sk-toggleable__control:checked~label.sk-toggleable__label-arrow:before {content: \"▾\";}#sk-container-id-2 div.sk-estimator input.sk-toggleable__control:checked~label.sk-toggleable__label {background-color: #d4ebff;}#sk-container-id-2 div.sk-label input.sk-toggleable__control:checked~label.sk-toggleable__label {background-color: #d4ebff;}#sk-container-id-2 input.sk-hidden--visually {border: 0;clip: rect(1px 1px 1px 1px);clip: rect(1px, 1px, 1px, 1px);height: 1px;margin: -1px;overflow: hidden;padding: 0;position: absolute;width: 1px;}#sk-container-id-2 div.sk-estimator {font-family: monospace;background-color: #f0f8ff;border: 1px dotted black;border-radius: 0.25em;box-sizing: border-box;margin-bottom: 0.5em;}#sk-container-id-2 div.sk-estimator:hover {background-color: #d4ebff;}#sk-container-id-2 div.sk-parallel-item::after {content: \"\";width: 100%;border-bottom: 1px solid gray;flex-grow: 1;}#sk-container-id-2 div.sk-label:hover label.sk-toggleable__label {background-color: #d4ebff;}#sk-container-id-2 div.sk-serial::before {content: \"\";position: absolute;border-left: 1px solid gray;box-sizing: border-box;top: 0;bottom: 0;left: 50%;z-index: 0;}#sk-container-id-2 div.sk-serial {display: flex;flex-direction: column;align-items: center;background-color: white;padding-right: 0.2em;padding-left: 0.2em;position: relative;}#sk-container-id-2 div.sk-item {position: relative;z-index: 1;}#sk-container-id-2 div.sk-parallel {display: flex;align-items: stretch;justify-content: center;background-color: white;position: relative;}#sk-container-id-2 div.sk-item::before, #sk-container-id-2 div.sk-parallel-item::before {content: \"\";position: absolute;border-left: 1px solid gray;box-sizing: border-box;top: 0;bottom: 0;left: 50%;z-index: -1;}#sk-container-id-2 div.sk-parallel-item {display: flex;flex-direction: column;z-index: 1;position: relative;background-color: white;}#sk-container-id-2 div.sk-parallel-item:first-child::after {align-self: flex-end;width: 50%;}#sk-container-id-2 div.sk-parallel-item:last-child::after {align-self: flex-start;width: 50%;}#sk-container-id-2 div.sk-parallel-item:only-child::after {width: 0;}#sk-container-id-2 div.sk-dashed-wrapped {border: 1px dashed gray;margin: 0 0.4em 0.5em 0.4em;box-sizing: border-box;padding-bottom: 0.4em;background-color: white;}#sk-container-id-2 div.sk-label label {font-family: monospace;font-weight: bold;display: inline-block;line-height: 1.2em;}#sk-container-id-2 div.sk-label-container {text-align: center;}#sk-container-id-2 div.sk-container {/* jupyter's `normalize.less` sets `[hidden] { display: none; }` but bootstrap.min.css set `[hidden] { display: none !important; }` so we also need the `!important` here to be able to override the default hidden behavior on the sphinx rendered scikit-learn.org. See: https://github.com/scikit-learn/scikit-learn/issues/21755 */display: inline-block !important;position: relative;}#sk-container-id-2 div.sk-text-repr-fallback {display: none;}</style><div id=\"sk-container-id-2\" class=\"sk-top-container\"><div class=\"sk-text-repr-fallback\"><pre>GridSearchCV(cv=5, estimator=SVC(),\n",
       "             param_grid=[{&#x27;C&#x27;: [1, 100, 1000], &#x27;kernel&#x27;: [&#x27;linear&#x27;]},\n",
       "                         {&#x27;C&#x27;: [1, 100, 1000],\n",
       "                          &#x27;gamma&#x27;: [0.1, 0.2, 0.3, 0.4, 0.5, 0.6, 0.7, 0.8,\n",
       "                                    0.9],\n",
       "                          &#x27;kernel&#x27;: [&#x27;rbf&#x27;]},\n",
       "                         {&#x27;C&#x27;: [1, 100, 1000], &#x27;degree&#x27;: [2, 3, 4],\n",
       "                          &#x27;gamma&#x27;: [0.01, 0.02, 0.03, 0.04, 0.05],\n",
       "                          &#x27;kernel&#x27;: [&#x27;poly&#x27;]}],\n",
       "             scoring=&#x27;accuracy&#x27;)</pre><b>In a Jupyter environment, please rerun this cell to show the HTML representation or trust the notebook. <br />On GitHub, the HTML representation is unable to render, please try loading this page with nbviewer.org.</b></div><div class=\"sk-container\" hidden><div class=\"sk-item sk-dashed-wrapped\"><div class=\"sk-label-container\"><div class=\"sk-label sk-toggleable\"><input class=\"sk-toggleable__control sk-hidden--visually\" id=\"sk-estimator-id-4\" type=\"checkbox\" ><label for=\"sk-estimator-id-4\" class=\"sk-toggleable__label sk-toggleable__label-arrow\">GridSearchCV</label><div class=\"sk-toggleable__content\"><pre>GridSearchCV(cv=5, estimator=SVC(),\n",
       "             param_grid=[{&#x27;C&#x27;: [1, 100, 1000], &#x27;kernel&#x27;: [&#x27;linear&#x27;]},\n",
       "                         {&#x27;C&#x27;: [1, 100, 1000],\n",
       "                          &#x27;gamma&#x27;: [0.1, 0.2, 0.3, 0.4, 0.5, 0.6, 0.7, 0.8,\n",
       "                                    0.9],\n",
       "                          &#x27;kernel&#x27;: [&#x27;rbf&#x27;]},\n",
       "                         {&#x27;C&#x27;: [1, 100, 1000], &#x27;degree&#x27;: [2, 3, 4],\n",
       "                          &#x27;gamma&#x27;: [0.01, 0.02, 0.03, 0.04, 0.05],\n",
       "                          &#x27;kernel&#x27;: [&#x27;poly&#x27;]}],\n",
       "             scoring=&#x27;accuracy&#x27;)</pre></div></div></div><div class=\"sk-parallel\"><div class=\"sk-parallel-item\"><div class=\"sk-item\"><div class=\"sk-label-container\"><div class=\"sk-label sk-toggleable\"><input class=\"sk-toggleable__control sk-hidden--visually\" id=\"sk-estimator-id-5\" type=\"checkbox\" ><label for=\"sk-estimator-id-5\" class=\"sk-toggleable__label sk-toggleable__label-arrow\">estimator: SVC</label><div class=\"sk-toggleable__content\"><pre>SVC()</pre></div></div></div><div class=\"sk-serial\"><div class=\"sk-item\"><div class=\"sk-estimator sk-toggleable\"><input class=\"sk-toggleable__control sk-hidden--visually\" id=\"sk-estimator-id-6\" type=\"checkbox\" ><label for=\"sk-estimator-id-6\" class=\"sk-toggleable__label sk-toggleable__label-arrow\">SVC</label><div class=\"sk-toggleable__content\"><pre>SVC()</pre></div></div></div></div></div></div></div></div></div></div>"
      ],
      "text/plain": [
       "GridSearchCV(cv=5, estimator=SVC(),\n",
       "             param_grid=[{'C': [1, 100, 1000], 'kernel': ['linear']},\n",
       "                         {'C': [1, 100, 1000],\n",
       "                          'gamma': [0.1, 0.2, 0.3, 0.4, 0.5, 0.6, 0.7, 0.8,\n",
       "                                    0.9],\n",
       "                          'kernel': ['rbf']},\n",
       "                         {'C': [1, 100, 1000], 'degree': [2, 3, 4],\n",
       "                          'gamma': [0.01, 0.02, 0.03, 0.04, 0.05],\n",
       "                          'kernel': ['poly']}],\n",
       "             scoring='accuracy')"
      ]
     },
     "execution_count": 64,
     "metadata": {},
     "output_type": "execute_result"
    }
   ],
   "source": [
    "grid_search_Tfidf = GridSearchCV(estimator = svc,  \n",
    "                           param_grid = parameters,\n",
    "                           scoring = 'accuracy',\n",
    "                           cv = 5,\n",
    "                           verbose=0)\n",
    "#Train data TF-IDF\n",
    "grid_search_Tfidf.fit(Train_X_Tfidf, Train_Y)"
   ]
  },
  {
   "cell_type": "code",
   "execution_count": 65,
   "id": "ee996f6a",
   "metadata": {},
   "outputs": [
    {
     "name": "stdout",
     "output_type": "stream",
     "text": [
      "\n",
      "\n",
      "---BoW---\n",
      "\n",
      "GridSearch CV best score : 0.9273\n",
      "\n",
      "Parameters that give the best results : {'C': 1000, 'kernel': 'linear'}\n",
      "\n",
      "Estimator that was chosen by the search : SVC(C=1000, kernel='linear')\n",
      "\n",
      "\n",
      "---TF-IDF---\n",
      "\n",
      "GridSearch CV best score : 0.9313\n",
      "\n",
      "Parameters that give the best results : {'C': 100, 'gamma': 0.1, 'kernel': 'rbf'}\n",
      "\n",
      "Estimator that was chosen by the search : SVC(C=100, gamma=0.1)\n"
     ]
    }
   ],
   "source": [
    "### BoW ###\n",
    "# examine the best model\n",
    "# best score achieved during the GridSearchCV\n",
    "print('\\n\\n---BoW---\\n')\n",
    "print('GridSearch CV best score : {:.4f}\\n'.format(grid_search.best_score_))\n",
    "# print parameters that give the best results\n",
    "print('Parameters that give the best results :', (grid_search.best_params_))\n",
    "# print estimator that was chosen by the GridSearch\n",
    "print('\\nEstimator that was chosen by the search :', (grid_search.best_estimator_))\n",
    "\n",
    "### TF-IDF ###\n",
    "# examine the best model\n",
    "# best score achieved during the GridSearchCV\n",
    "print('\\n\\n---TF-IDF---\\n')\n",
    "print('GridSearch CV best score : {:.4f}\\n'.format(grid_search_Tfidf.best_score_))\n",
    "# print parameters that give the best results\n",
    "print('Parameters that give the best results :', (grid_search_Tfidf.best_params_))\n",
    "# print estimator that was chosen by the GridSearch\n",
    "print('\\nEstimator that was chosen by the search :', (grid_search_Tfidf.best_estimator_))"
   ]
  },
  {
   "cell_type": "code",
   "execution_count": 67,
   "id": "4c80bd73",
   "metadata": {},
   "outputs": [
    {
     "name": "stdout",
     "output_type": "stream",
     "text": [
      "GridSearch CV score on test set: 0.9366\n",
      "GridSearch CV score on test set: 0.9426\n"
     ]
    }
   ],
   "source": [
    "# calculate GridSearch CV score on test set\n",
    "print('GridSearch CV score on test set: {0:0.4f}'.format(grid_search.score(Test_X_BoW, Test_Y)))\n",
    "# calculate GridSearch CV score on test set\n",
    "print('GridSearch CV score on test set: {0:0.4f}'.format(grid_search_Tfidf.score(Test_X_Tfidf, Test_Y)))"
   ]
  },
  {
   "cell_type": "markdown",
   "id": "fb6fc7b6",
   "metadata": {},
   "source": [
    "## Definisikan Classifier "
   ]
  },
  {
   "cell_type": "markdown",
   "id": "006988d5",
   "metadata": {},
   "source": [
    "mendefinisikan clisifier berdasarkan best score pada masing-masing kombinasi fitur ekstraksi dan leksikon"
   ]
  },
  {
   "cell_type": "code",
   "execution_count": 21,
   "id": "3c441ce2",
   "metadata": {},
   "outputs": [],
   "source": [
    "# Menggunakan SVM dengan kernel hasil Grid Search CV sebagai classifier\n",
    "linear1000 = svm.SVC(kernel='linear', C=1000.0, random_state=42)#karnel linier dengan C=1000.0\n",
    "rbf100=SVC(C=100.0, gamma=0.1, random_state=42) #karnel RBF dengan C=100.0"
   ]
  },
  {
   "cell_type": "markdown",
   "id": "a2ef7d11-9e9f-4644-9f84-6f5e18aa5e2f",
   "metadata": {},
   "source": [
    "## KLASIFIKASI dengan SVM menggunakan Best Parameter hasil Grid Search CV"
   ]
  },
  {
   "cell_type": "markdown",
   "id": "25041309",
   "metadata": {},
   "source": [
    "### BoW"
   ]
  },
  {
   "cell_type": "code",
   "execution_count": 22,
   "id": "b4ab95db",
   "metadata": {},
   "outputs": [
    {
     "name": "stdout",
     "output_type": "stream",
     "text": [
      "Model accuracy score with linear kernel and C=1000.0  ->  93.65641165260006\n"
     ]
    }
   ],
   "source": [
    "# SVM dengan Karnel Linier C=1000.0\n",
    "## fitting data latih pada classifier\n",
    "linear1000.fit(Train_X_BoW,Train_Y)\n",
    "\n",
    "## memprediksi label pada set data uji\n",
    "predictions_SVM_BoW_Linier1000 = linear1000.predict(Test_X_BoW)\n",
    "\n",
    "## Menggunakan fungsi accuracy_score untuk mendapat nilai akurasi\n",
    "accuracy_Bow_linear1000 = accuracy_score(Test_Y, predictions_SVM_BoW_Linier1000)*100\n",
    "print('Model accuracy score with linear kernel and C=1000.0  -> ', accuracy_Bow_linear1000)"
   ]
  },
  {
   "cell_type": "markdown",
   "id": "8d9a2d5b",
   "metadata": {},
   "source": [
    "### TF-IDF"
   ]
  },
  {
   "cell_type": "code",
   "execution_count": 23,
   "id": "81603112",
   "metadata": {},
   "outputs": [
    {
     "name": "stdout",
     "output_type": "stream",
     "text": [
      "Model accuracy score with rbf kernel and C=100.0 ->  94.2553770759597\n"
     ]
    }
   ],
   "source": [
    "#### SVM dengan Karnel RBF dan C=100.0 Gamma =0.1####\n",
    "# fitting data latih pada classifier\n",
    "rbf100.fit(Train_X_Tfidf,Train_Y)\n",
    "\n",
    "# memprediksi label pada set data uji\n",
    "predictions_SVM_Tfidf_RBF100 = rbf100.predict(Test_X_Tfidf)\n",
    "\n",
    "# Menggunakan fungsi accuracy_score untuk mendapat nilai akurasi\n",
    "accuracy_Tfidf_rbf100 = accuracy_score(Test_Y, predictions_SVM_Tfidf_RBF100)*100\n",
    "print('Model accuracy score with rbf kernel and C=100.0 -> ', accuracy_Tfidf_rbf100)"
   ]
  },
  {
   "cell_type": "code",
   "execution_count": 24,
   "id": "2b0d5ee2",
   "metadata": {},
   "outputs": [
    {
     "data": {
      "text/html": [
       "<div>\n",
       "<style scoped>\n",
       "    .dataframe tbody tr th:only-of-type {\n",
       "        vertical-align: middle;\n",
       "    }\n",
       "\n",
       "    .dataframe tbody tr th {\n",
       "        vertical-align: top;\n",
       "    }\n",
       "\n",
       "    .dataframe thead th {\n",
       "        text-align: right;\n",
       "    }\n",
       "</style>\n",
       "<table border=\"1\" class=\"dataframe\">\n",
       "  <thead>\n",
       "    <tr style=\"text-align: right;\">\n",
       "      <th></th>\n",
       "      <th>Lexicon Values</th>\n",
       "      <th>Predicted Values</th>\n",
       "    </tr>\n",
       "  </thead>\n",
       "  <tbody>\n",
       "    <tr>\n",
       "      <th>0</th>\n",
       "      <td>0</td>\n",
       "      <td>1</td>\n",
       "    </tr>\n",
       "    <tr>\n",
       "      <th>1</th>\n",
       "      <td>0</td>\n",
       "      <td>0</td>\n",
       "    </tr>\n",
       "    <tr>\n",
       "      <th>2</th>\n",
       "      <td>1</td>\n",
       "      <td>1</td>\n",
       "    </tr>\n",
       "    <tr>\n",
       "      <th>3</th>\n",
       "      <td>0</td>\n",
       "      <td>0</td>\n",
       "    </tr>\n",
       "    <tr>\n",
       "      <th>4</th>\n",
       "      <td>1</td>\n",
       "      <td>1</td>\n",
       "    </tr>\n",
       "    <tr>\n",
       "      <th>5</th>\n",
       "      <td>1</td>\n",
       "      <td>1</td>\n",
       "    </tr>\n",
       "    <tr>\n",
       "      <th>6</th>\n",
       "      <td>1</td>\n",
       "      <td>1</td>\n",
       "    </tr>\n",
       "    <tr>\n",
       "      <th>7</th>\n",
       "      <td>1</td>\n",
       "      <td>1</td>\n",
       "    </tr>\n",
       "    <tr>\n",
       "      <th>8</th>\n",
       "      <td>1</td>\n",
       "      <td>1</td>\n",
       "    </tr>\n",
       "    <tr>\n",
       "      <th>9</th>\n",
       "      <td>0</td>\n",
       "      <td>0</td>\n",
       "    </tr>\n",
       "  </tbody>\n",
       "</table>\n",
       "</div>"
      ],
      "text/plain": [
       "   Lexicon Values  Predicted Values\n",
       "0               0                 1\n",
       "1               0                 0\n",
       "2               1                 1\n",
       "3               0                 0\n",
       "4               1                 1\n",
       "5               1                 1\n",
       "6               1                 1\n",
       "7               1                 1\n",
       "8               1                 1\n",
       "9               0                 0"
      ]
     },
     "execution_count": 24,
     "metadata": {},
     "output_type": "execute_result"
    }
   ],
   "source": [
    "# # Membandingkan Nilai Leksikon dengan Nilai Prediksi\n",
    "df = pd.DataFrame({'Lexicon Values':Test_Y, 'Predicted Values':predictions_SVM_Tfidf_RBF100})\n",
    "df[:10]"
   ]
  },
  {
   "cell_type": "markdown",
   "id": "1e50e11c-0d07-4fe9-9db5-58b6922ad87a",
   "metadata": {},
   "source": [
    "## **Gambaran Data:**"
   ]
  },
  {
   "cell_type": "code",
   "execution_count": 25,
   "id": "a342e1b8-75b2-4a89-a34e-0b01a2de8e9d",
   "metadata": {},
   "outputs": [
    {
     "name": "stdout",
     "output_type": "stream",
     "text": [
      "X: 12243 \n",
      "Train\tTest\t\t%train\t%test\n",
      " 8570 \t 3673 \tX\t 70.00 \t 30.00 \n",
      " 73184 \t 31932 \tBoWs\t 69.62 \t 30.38 \n",
      " 73184 \t 31932 \tTF-IDF\t 69.62 \t 30.38\n",
      "\n",
      "neg\tpos\t\tsum\n",
      " 1495 \t 2178 \t 3673 \tTest_Y\n",
      " 1470 \t 2203 \t 3673 \tP_BoWs_Linier(C=1000.0)\n",
      " 1504 \t 2169 \t 3673 \tP_Tfidf_rbf(C=100.0)\n",
      "\n"
     ]
    }
   ],
   "source": [
    "# Gambaran rasio data latih dan data uji dari teks awal dan dari vektor ekstraksi fitur.\n",
    "print('X:', Corpus['text'].size,\n",
    "      '\\nTrain\\tTest\\t\\t%train\\t%test\\n',\n",
    "      \n",
    "      Train_X.size, '\\t', Test_X.size, '\\tX\\t', '{:.2f}'.format(Train_X.size/(Test_X.size+Train_X.size)*100), '\\t', '{:.2f}'.format(Test_X.size/(Test_X.size+Train_X.size)*100), '\\n',\n",
    "      Train_X_BoW.size, '\\t', Test_X_BoW.size, '\\tBoWs\\t', '{:.2f}'.format(Train_X_BoW.size/(Test_X_BoW.size+Train_X_BoW.size)*100), '\\t', '{:.2f}'.format(Test_X_BoW.size/(Test_X_BoW.size+Train_X_BoW.size)*100), '\\n',\n",
    "      Train_X_Tfidf.size, '\\t', Test_X_Tfidf.size, '\\tTF-IDF\\t', '{:.2f}'.format(Train_X_Tfidf.size/(Test_X_Tfidf.size+Train_X_Tfidf.size)*100), '\\t', '{:.2f}'.format(Test_X_Tfidf.size/(Test_X_Tfidf.size+Train_X_Tfidf.size)*100))\n",
    "\n",
    "# Gambaran jumlah kelas negatif dan positif dari data uji dengan label aktual, label leksikon, and label prediksi;\n",
    "# Label aktual dan label leksikon disimbolkan sebagai 'Test_Y_Actual' dan 'Test_Y';\n",
    "# Jika kamu memakai label aktual sebagai baseline, maka label leksikon di sini adalah label aktual itu sendiri.\n",
    "print('\\nneg\\tpos\\t\\tsum\\n',\n",
    "      (Test_Y==0).sum(), '\\t', (Test_Y==1).sum(), '\\t', Test_Y.size, '\\tTest_Y\\n',\n",
    "      (predictions_SVM_BoW_Linier1000==0).sum(),   '\\t', (predictions_SVM_BoW_Linier1000==1).sum(),   '\\t', predictions_SVM_BoW_Linier1000.size,   '\\tP_BoWs_Linier(C=1000.0)\\n',\n",
    "      (predictions_SVM_Tfidf_RBF100==0).sum(), '\\t', (predictions_SVM_Tfidf_RBF100==1).sum(), '\\t', predictions_SVM_Tfidf_RBF100.size, '\\tP_Tfidf_rbf(C=100.0)\\n',\n",
    "     )"
   ]
  },
  {
   "cell_type": "markdown",
   "id": "67ddfd6d",
   "metadata": {},
   "source": [
    "### Comments\n",
    "\n",
    "Hasil model ini mendapatkan akurasi maksimum dari fitur ekstraksi `TF-IDF` dan kernel `RBF C=100.0` dan `gamma =0,1`dengan akurasi sebesar `94,26%`, dan di posisi kedua dengan nilai akurasi `93,66%` dari kombinasi `BoW` dengan karnel `linier C=100.0`. Berdasarkan analisis di atas dapat disimpulkan bahwa akurasi model klasifikasi yang digunakan sangat baik. Model kami melakukan pekerjaan yang sangat baik dalam hal memprediksi label kelas.\n",
    "\n",
    "Namun, ini tidak sepenuhnya benar karena data yang digunakan terdapat ketidakseimbangan antara kelas positif dan kelas negatif yang menyebabkan adanya missklasifikasi pada data yang menghasilkan label data yang cenderung lebih mayor pada data latih. \n",
    "\n",
    "Pada penelitian terdahulu yang di lakukan oleh (Ganganwar, 2012) menyatakan bahwa kumpulan data yang tidak seimbang dapat menyebabkan miss-klasifikasi pada data. Hal ini dikarenakan perbedaan jumlah dataset antara kelas mayor dan minor yang bisa membuat kelas mayor memiliki kinerja yang lebih baik daripada kelas minor.\n",
    "\n",
    "\n",
    "Jadi, kita harus mengeksplorasi metrik alternatif yang memberikan panduan yang lebih baik dalam memilih model. Secara khusus, saya ingin mengetahui distribusi nilai yang mendasari dan jenis kesalahan yang dibuat oleh classifer yang digunakan.\n",
    "\n",
    "\n",
    "Salah satu metrik untuk menganalisis kinerja model dalam masalah kelas tidak seimbang adalah `Confusion matrix`."
   ]
  },
  {
   "cell_type": "markdown",
   "id": "bbe1c3b1-88ea-482a-8165-4d59db527a15",
   "metadata": {},
   "source": [
    "# EVALUASI / VALIDASI "
   ]
  },
  {
   "cell_type": "markdown",
   "id": "2bece049-c474-4e70-8e99-adf9ec735c4a",
   "metadata": {},
   "source": [
    "## Confusion Matrix"
   ]
  },
  {
   "cell_type": "code",
   "execution_count": 26,
   "id": "f5ab4645",
   "metadata": {},
   "outputs": [
    {
     "name": "stdout",
     "output_type": "stream",
     "text": [
      "\n",
      "### Confusion Matrix - BoW ###\n",
      "Confusion matrix\n",
      "\n",
      " [[1394  101]\n",
      " [ 110 2068]]\n",
      "\n",
      "True Positives(TP) =  1394\n",
      "\n",
      "True Negatives(TN) =  2068\n",
      "\n",
      "False Positives(FP) =  101\n",
      "\n",
      "False Negatives(FN) =  110\n"
     ]
    }
   ],
   "source": [
    "# Print the Confusion Matrix and slice it into four pieces\n",
    "y_true =Test_Y\n",
    "\n",
    "## BoW ~ Linier C=100 ##\n",
    "print('\\n### Confusion Matrix - BoW ###')\n",
    "y_pred = predictions_SVM_Tfidf_RBF100\n",
    "cm = confusion_matrix(y_true, y_pred)\n",
    "\n",
    "print('Confusion matrix\\n\\n', cm)\n",
    "print('\\nTrue Positives(TP) = ', cm[0,0])\n",
    "print('\\nTrue Negatives(TN) = ', cm[1,1])\n",
    "print('\\nFalse Positives(FP) = ', cm[0,1])\n",
    "print('\\nFalse Negatives(FN) = ', cm[1,0])"
   ]
  },
  {
   "cell_type": "markdown",
   "id": "3d395b74",
   "metadata": {},
   "source": [
    "Confusion matrix menunjukkan `1366 + 2074 = 3440 prediksi yang benar` dan `104 + 129 = 233 prediksi yang salah`.\n",
    "\n",
    "\n",
    "Dalam hal ini, kami memiliki\n",
    "\n",
    "- `True Positives` (Positif Aktual:1 dan Prediksi Positif:1) - 1394\n",
    "\n",
    "\n",
    "- `True Negatives` (Negatif Aktual:0 dan Prediksi Negatif:0) - 2068\n",
    "\n",
    "\n",
    "- `False Positives` (Actual Negative:0 tetapi Predict Positive:1) - 101 `(Kesalahan tipe I)`\n",
    "\n",
    "\n",
    "- `False Negatives` (Positif Aktual:1 tetapi Prediksi Negatif:0) - 110 `(Kesalahan Tipe II)`"
   ]
  },
  {
   "cell_type": "code",
   "execution_count": 27,
   "id": "65db32cf",
   "metadata": {},
   "outputs": [
    {
     "data": {
      "text/plain": [
       "<AxesSubplot: >"
      ]
     },
     "execution_count": 27,
     "metadata": {},
     "output_type": "execute_result"
    },
    {
     "data": {
      "image/png": "[encoded data removed]",
      "text/plain": [
       "<Figure size 432x288 with 2 Axes>"
      ]
     },
     "metadata": {
      "needs_background": "light"
     },
     "output_type": "display_data"
    }
   ],
   "source": [
    "# visualize confusion matrix with seaborn heatmap\n",
    "\n",
    "cm_matrix = pd.DataFrame(data=cm, columns=['Actual Positive:1', 'Actual Negative:0'], \n",
    "                                 index=['Predict Positive:1', 'Predict Negative:0'])\n",
    "\n",
    "sns.heatmap(cm_matrix, annot=True, fmt='d', cmap='YlGnBu')"
   ]
  },
  {
   "cell_type": "markdown",
   "id": "4a243beb",
   "metadata": {},
   "source": [
    "## Classification metrices"
   ]
  },
  {
   "cell_type": "markdown",
   "id": "9b542e72-8535-48c8-b47f-7e2c09b3d885",
   "metadata": {},
   "source": [
    "### Classification Report:\n",
    "Classification report adalah cara lain untuk mengevaluasi kinerja model klasifikasi. Ini menampilkan `presisi`, `recall`, `f1` dan `support scores` untuk model."
   ]
  },
  {
   "cell_type": "markdown",
   "id": "6f0d8348",
   "metadata": {},
   "source": [
    "### Classification Report: SVM Karnel Linier"
   ]
  },
  {
   "cell_type": "code",
   "execution_count": 31,
   "id": "438d9269-ab45-4f76-bf2f-53dc0c2032b5",
   "metadata": {},
   "outputs": [
    {
     "name": "stdout",
     "output_type": "stream",
     "text": [
      "TF-IDF - linear C=1.0\n",
      "               precision    recall  f1-score   support\n",
      "\n",
      "           0       0.93      0.93      0.93      1495\n",
      "           1       0.95      0.95      0.95      2178\n",
      "\n",
      "    accuracy                           0.94      3673\n",
      "   macro avg       0.94      0.94      0.94      3673\n",
      "weighted avg       0.94      0.94      0.94      3673\n",
      "\n"
     ]
    }
   ],
   "source": [
    "# Membuat classification report\n",
    "\n",
    "## TF-IDF ##\n",
    "print('TF-IDF - linear C=1.0\\n',\n",
    "      classification_report(Test_Y, predictions_SVM_Tfidf_RBF100))\n"
   ]
  },
  {
   "cell_type": "code",
   "execution_count": null,
   "id": "24174bb7-ed97-4ca3-93ee-331839bda8cf",
   "metadata": {},
   "outputs": [],
   "source": []
  },
  {
   "cell_type": "markdown",
   "id": "7ecab5b0",
   "metadata": {},
   "source": [
    "### Classification accuracy"
   ]
  },
  {
   "cell_type": "code",
   "execution_count": 32,
   "id": "c2d8a88e",
   "metadata": {},
   "outputs": [],
   "source": [
    "TP = cm[0,0]\n",
    "TN = cm[1,1]\n",
    "FP = cm[0,1]\n",
    "FN = cm[1,0]"
   ]
  },
  {
   "cell_type": "code",
   "execution_count": 33,
   "id": "5091a21d",
   "metadata": {},
   "outputs": [
    {
     "name": "stdout",
     "output_type": "stream",
     "text": [
      "Classification accuracy : 0.9426\n"
     ]
    }
   ],
   "source": [
    "# print classification accuracy\n",
    "\n",
    "classification_accuracy = (TP + TN) / float(TP + TN + FP + FN)\n",
    "\n",
    "print('Classification accuracy : {0:0.4f}'.format(classification_accuracy))"
   ]
  },
  {
   "cell_type": "markdown",
   "id": "89ff9a9f",
   "metadata": {},
   "source": [
    "### Classification error"
   ]
  },
  {
   "cell_type": "code",
   "execution_count": 34,
   "id": "b4bb9c25",
   "metadata": {},
   "outputs": [
    {
     "name": "stdout",
     "output_type": "stream",
     "text": [
      "Classification error : 0.0574\n"
     ]
    }
   ],
   "source": [
    "# print classification error\n",
    "\n",
    "classification_error = (FP + FN) / float(TP + TN + FP + FN)\n",
    "\n",
    "print('Classification error : {0:0.4f}'.format(classification_error))"
   ]
  },
  {
   "cell_type": "code",
   "execution_count": null,
   "id": "d17ea5f5-0c69-4bbd-a2e7-22f8732c8eaa",
   "metadata": {},
   "outputs": [],
   "source": []
  },
  {
   "cell_type": "markdown",
   "id": "1dbc7278-03d9-42a1-9c47-22717c7b57fb",
   "metadata": {},
   "source": [
    "## Validasi dengan k-Fold Cross Validation\n",
    "Ubah nilai `n_splits` sesuai dengan kebutuhan. Sebagai contoh, 5 splits berarti bahwa data (X dan y oversample) dibagi menjadi *4 porsi* untuk set latih baru dan *1 porsi* untuk set uji baru. Jika `shuffle` bernilai True, maka validasi silang dilakukan dengan kombinasi data yang berbeda di setiap iterasi. Kemudian validasi silang dilakukan dalam 5 iterasi."
   ]
  },
  {
   "cell_type": "markdown",
   "id": "a2692291",
   "metadata": {},
   "source": [
    "### Stratified k-Fold Cross Validation with shuffle split with  rbf kernel"
   ]
  },
  {
   "cell_type": "code",
   "execution_count": 35,
   "id": "b388c494",
   "metadata": {},
   "outputs": [
    {
     "name": "stdout",
     "output_type": "stream",
     "text": [
      "/n/nStratified cross-validation scores with linear kernel:\n",
      "[0.91656943 0.91190198 0.91423571 0.91656943 0.91540257]\n"
     ]
    }
   ],
   "source": [
    "kfold=KFold(n_splits=5, shuffle=True, random_state=0)\n",
    "rbf100_scores = cross_val_score(rbf100, Train_X_BoW, Train_Y, cv=kfold)\n",
    "\n",
    "# print cross-validation scores with rbf kernel\n",
    "print('/n/nStratified cross-validation scores with linear kernel:\\n{}'.format(rbf100_scores))"
   ]
  },
  {
   "cell_type": "code",
   "execution_count": 37,
   "id": "bcc5d7fa",
   "metadata": {},
   "outputs": [
    {
     "name": "stdout",
     "output_type": "stream",
     "text": [
      "\n",
      "Maximum Accuracy That can be obtained from this model is: 91.65694282380397 %\n",
      "\n",
      "Minimum Accuracy: 91.1901983663944 %\n",
      "\n",
      "Overall Accuracy: 91.49358226371062 %\n",
      "\n",
      "Standard Deviation is: 0.0019525321506045897\n"
     ]
    }
   ],
   "source": [
    "print('\\nMaximum Accuracy That can be obtained from this model is:',\n",
    "      max(rbf100_scores)*100, '%')\n",
    "print('\\nMinimum Accuracy:',\n",
    "      min(rbf100_scores)*100, '%')\n",
    "print('\\nOverall Accuracy:',\n",
    "      mean(rbf100_scores)*100, '%')\n",
    "print('\\nStandard Deviation is:', stdev(rbf100_scores))"
   ]
  },
  {
   "cell_type": "markdown",
   "id": "558df38f",
   "metadata": {},
   "source": [
    "https://www.geeksforgeeks.org/stratified-k-fold-cross-validation/"
   ]
  },
  {
   "cell_type": "code",
   "execution_count": 38,
   "id": "33337f73",
   "metadata": {},
   "outputs": [],
   "source": [
    "# Simpan nilai presisi, recall, dan f1-score ke file\n",
    "def cr_oversampled(featExt, precision, recall, f1):\n",
    "    output = 'svm_cr_inset_'+str(featExt)+'_kfold.txt'\n",
    "    with open(output, 'a') as f:\n",
    "        f.write(str(precision)+'\\t'+str(recall)+'\\t'+str(f1)+'\\n')"
   ]
  },
  {
   "cell_type": "code",
   "execution_count": 39,
   "id": "a815c1e7",
   "metadata": {
    "scrolled": true
   },
   "outputs": [
    {
     "name": "stderr",
     "output_type": "stream",
     "text": [
      "C:\\Users\\Lenovo\\anaconda3\\lib\\site-packages\\sklearn\\preprocessing\\_label.py:115: DataConversionWarning: A column-vector y was passed when a 1d array was expected. Please change the shape of y to (n_samples, ), for example using ravel().\n",
      "  y = column_or_1d(y, warn=True)\n"
     ]
    }
   ],
   "source": [
    "outer_cv = KFold(n_splits=5, shuffle=True, random_state=42)\n",
    "\n",
    "y = LL\n",
    "y = Encoder.fit_transform(y)"
   ]
  },
  {
   "cell_type": "code",
   "execution_count": 43,
   "id": "4a7f9432",
   "metadata": {},
   "outputs": [
    {
     "name": "stdout",
     "output_type": "stream",
     "text": [
      "BoW - Karnel Linier(C=1000.0)\n",
      "# Fold 1:\n",
      "              precision    recall  f1-score   support\n",
      "\n",
      "           0       0.94      0.93      0.93       976\n",
      "           1       0.95      0.96      0.96      1473\n",
      "\n",
      "    accuracy                           0.95      2449\n",
      "   macro avg       0.94      0.94      0.94      2449\n",
      "weighted avg       0.95      0.95      0.95      2449\n",
      " \n",
      "\n",
      "# Fold 2:\n",
      "              precision    recall  f1-score   support\n",
      "\n",
      "           0       0.94      0.91      0.92      1032\n",
      "           1       0.93      0.96      0.95      1417\n",
      "\n",
      "    accuracy                           0.94      2449\n",
      "   macro avg       0.94      0.93      0.93      2449\n",
      "weighted avg       0.94      0.94      0.94      2449\n",
      " \n",
      "\n",
      "# Fold 3:\n",
      "              precision    recall  f1-score   support\n",
      "\n",
      "           0       0.94      0.92      0.93      1005\n",
      "           1       0.94      0.96      0.95      1444\n",
      "\n",
      "    accuracy                           0.94      2449\n",
      "   macro avg       0.94      0.94      0.94      2449\n",
      "weighted avg       0.94      0.94      0.94      2449\n",
      " \n",
      "\n",
      "# Fold 4:\n",
      "              precision    recall  f1-score   support\n",
      "\n",
      "           0       0.91      0.93      0.92       951\n",
      "           1       0.95      0.94      0.95      1497\n",
      "\n",
      "    accuracy                           0.94      2448\n",
      "   macro avg       0.93      0.94      0.93      2448\n",
      "weighted avg       0.94      0.94      0.94      2448\n",
      " \n",
      "\n",
      "# Fold 5:\n",
      "              precision    recall  f1-score   support\n",
      "\n",
      "           0       0.94      0.93      0.94      1017\n",
      "           1       0.95      0.96      0.96      1431\n",
      "\n",
      "    accuracy                           0.95      2448\n",
      "   macro avg       0.95      0.95      0.95      2448\n",
      "weighted avg       0.95      0.95      0.95      2448\n",
      " \n",
      "\n"
     ]
    }
   ],
   "source": [
    "print('BoW - Karnel Linier(C=1000.0)')\n",
    "featExt = 'bow'\n",
    "\n",
    "X = vectorizer.fit_transform(Corpus['text_final'])\n",
    "kf = KFold(n_splits=5, shuffle=True, random_state=42)\n",
    "\n",
    "for fold, (train_index, test_index) in enumerate(kf.split(X), 1):\n",
    "    X_train, X_test = X[train_index], X[test_index]\n",
    "    y_train, y_test = y[train_index], y[test_index]\n",
    "    \n",
    "    linear1000.fit(X_train, y_train)\n",
    "    y_pred = linear1000.predict(X_test)\n",
    "    \n",
    "    accuracy = accuracy_score(y_test, y_pred)\n",
    "    precision = precision_score(y_test, y_pred)\n",
    "    recall = recall_score(y_test, y_pred)\n",
    "    f1 = f1_score(y_test, y_pred)\n",
    "\n",
    "    #print to file\n",
    "    cr_oversampled(featExt, precision, recall, f1)\n",
    "\n",
    "    print(f'# Fold {fold}:')\n",
    "    print(classification_report(y_test, y_pred), \"\\n\")\n",
    "    \n",
    "#     print(f'accuracy: {accuracy}')\n",
    "#     print(f'precision: {precision}')\n",
    "#     print(f'recall: {recall}')\n",
    "#     print(f'f-score: {f1}')"
   ]
  },
  {
   "cell_type": "code",
   "execution_count": 44,
   "id": "3f36a255",
   "metadata": {},
   "outputs": [
    {
     "name": "stdout",
     "output_type": "stream",
     "text": [
      "TF-IDF - Karnel RBF(C=100.0)\n",
      "# Fold 1:\n",
      "              precision    recall  f1-score   support\n",
      "\n",
      "           0       0.93      0.93      0.93       976\n",
      "           1       0.95      0.95      0.95      1473\n",
      "\n",
      "    accuracy                           0.94      2449\n",
      "   macro avg       0.94      0.94      0.94      2449\n",
      "weighted avg       0.94      0.94      0.94      2449\n",
      " \n",
      "\n",
      "# Fold 2:\n",
      "              precision    recall  f1-score   support\n",
      "\n",
      "           0       0.92      0.93      0.93      1032\n",
      "           1       0.95      0.94      0.95      1417\n",
      "\n",
      "    accuracy                           0.94      2449\n",
      "   macro avg       0.94      0.94      0.94      2449\n",
      "weighted avg       0.94      0.94      0.94      2449\n",
      " \n",
      "\n",
      "# Fold 3:\n",
      "              precision    recall  f1-score   support\n",
      "\n",
      "           0       0.94      0.93      0.94      1005\n",
      "           1       0.95      0.96      0.96      1444\n",
      "\n",
      "    accuracy                           0.95      2449\n",
      "   macro avg       0.95      0.95      0.95      2449\n",
      "weighted avg       0.95      0.95      0.95      2449\n",
      " \n",
      "\n",
      "# Fold 4:\n",
      "              precision    recall  f1-score   support\n",
      "\n",
      "           0       0.91      0.93      0.92       951\n",
      "           1       0.95      0.94      0.95      1497\n",
      "\n",
      "    accuracy                           0.94      2448\n",
      "   macro avg       0.93      0.93      0.93      2448\n",
      "weighted avg       0.94      0.94      0.94      2448\n",
      " \n",
      "\n",
      "# Fold 5:\n",
      "              precision    recall  f1-score   support\n",
      "\n",
      "           0       0.94      0.94      0.94      1017\n",
      "           1       0.96      0.95      0.96      1431\n",
      "\n",
      "    accuracy                           0.95      2448\n",
      "   macro avg       0.95      0.95      0.95      2448\n",
      "weighted avg       0.95      0.95      0.95      2448\n",
      " \n",
      "\n"
     ]
    }
   ],
   "source": [
    "print('TF-IDF - Karnel RBF(C=100.0)')\n",
    "featExt = 'tfidf'\n",
    "\n",
    "X = Tfidf_vect.fit_transform(Corpus['text_final'])\n",
    "kf = KFold(n_splits=5, shuffle=True, random_state=42)\n",
    "\n",
    "for fold, (train_index, test_index) in enumerate(kf.split(X), 1):\n",
    "    X_train, X_test = X[train_index], X[test_index]\n",
    "    y_train, y_test = y[train_index], y[test_index]\n",
    "\n",
    "    \n",
    "    rbf100.fit(X_train, y_train)\n",
    "    y_pred = rbf100.predict(X_test)\n",
    "    \n",
    "    accuracy = accuracy_score(y_test, y_pred)\n",
    "    precision = precision_score(y_test, y_pred)\n",
    "    recall = recall_score(y_test, y_pred)\n",
    "    f1 = f1_score(y_test, y_pred)\n",
    "\n",
    "    #print to file\n",
    "    cr_oversampled(featExt, precision, recall, f1)\n",
    "\n",
    "    print(f'# Fold {fold}:')\n",
    "    print(classification_report(y_test, y_pred), \"\\n\")"
   ]
  },
  {
   "cell_type": "code",
   "execution_count": null,
   "id": "47c26aee",
   "metadata": {},
   "outputs": [],
   "source": []
  },
  {
   "cell_type": "code",
   "execution_count": 45,
   "id": "5fee3c79",
   "metadata": {},
   "outputs": [
    {
     "name": "stdout",
     "output_type": "stream",
     "text": [
      "[94.95059539390553, 95.68007982874383, 95.31003029945501]\n",
      "[95.3362388855939, 94.90951026762104, 95.12133933887482]\n"
     ]
    }
   ],
   "source": [
    "# data00 = pd.read_csv('svm_cr_ov_lb1_tp_kfold.txt', header=None, sep='\\t', names=['precision', 'recall', 'f1'])\n",
    "data01 = pd.read_csv('svm_cr_inset_bow_kfold.txt', header=None, sep='\\t', names=['precision', 'recall', 'f1'])\n",
    "data02 = pd.read_csv('svm_cr_inset_tfidf_kfold.txt', header=None, sep='\\t', names=['precision', 'recall', 'f1'])\n",
    "\n",
    "### BoW\n",
    "# Presisi rata-rata\n",
    "data01_a = data01['precision'].to_list()\n",
    "data01_a = sum(data01_a)/len(data01_a)*100\n",
    "# Recall rata-rata\n",
    "data01_b = data01['recall'].to_list()\n",
    "data01_b = sum(data01_b)/len(data01_b)*100\n",
    "# F1-score rata-rata\n",
    "data01_c = data01['f1'].to_list()\n",
    "data01_c = sum(data01_c)/len(data01_c)*100\n",
    "# Menggabungkan semua nilai\n",
    "data01 = [data01_a, data01_b, data01_c]\n",
    "print(data01)\n",
    "\n",
    "### TF-IDF\n",
    "# Presisi rata-rata\n",
    "data02_a = data02['precision'].to_list()\n",
    "data02_a = sum(data02_a)/len(data02_a)*100\n",
    "# Recall rata-rata\n",
    "data02_b = data02['recall'].to_list()\n",
    "data02_b = sum(data02_b)/len(data02_b)*100\n",
    "# F1-score rata-rata\n",
    "data02_c = data02['f1'].to_list()\n",
    "data02_c = sum(data02_c)/len(data02_c)*100\n",
    "# Menggabungkan semua nilai\n",
    "data02 = [data02_a, data02_b, data02_c]\n",
    "print(data02)"
   ]
  },
  {
   "cell_type": "code",
   "execution_count": 46,
   "id": "a8acba5c",
   "metadata": {},
   "outputs": [
    {
     "name": "stdout",
     "output_type": "stream",
     "text": [
      "             presisi    recall  f-measure\n",
      "0     BoW  94.950595  95.68008  95.310030\n",
      "1  TF-IDF  95.336239  94.90951  95.121339\n"
     ]
    },
    {
     "data": {
      "image/png": "[encoded data removed]",
      "text/plain": [
       "<Figure size 432x288 with 1 Axes>"
      ]
     },
     "metadata": {
      "needs_background": "light"
     },
     "output_type": "display_data"
    }
   ],
   "source": [
    "data = [['BoW', data01[0], data01[1], data01[2]],\n",
    "        ['TF-IDF', data02[0], data02[1], data02[2]]]\n",
    "\n",
    "dfx = pd.DataFrame(data, columns=['', 'presisi', 'recall', 'f-measure'])\n",
    "print(dfx)\n",
    "\n",
    "# plot multikolom dari dataframe\n",
    "sns.set_palette('ocean',3)\n",
    "ax = dfx.plot(x='', y=['presisi', 'recall', 'f-measure'], kind='bar')\n",
    "ax.set_ylabel('%')\n",
    "ax.set_title('Nilai rata-rata clasification report dengan 5-Fold CV')\n",
    "\n",
    "ax.yaxis.set_ticks(np.arange(0, 110, 10))\n",
    "lgd = ax.legend(loc='lower center', bbox_to_anchor=(0.5,-0.2), borderaxespad=0., ncol=3)\n",
    "plt.xticks(rotation=0, ha='center')\n",
    "\n",
    "\n",
    "## *Catatan: bbox_extra_artists harus berupa iterasi\n",
    "# plt.savefig('plot5b-SVM_oversampled_kfold_avg_cr_inset.png', bbox_extra_artists=(lgd,), bbox_inches='tight')\n",
    "plt.show()"
   ]
  },
  {
   "cell_type": "code",
   "execution_count": null,
   "id": "c237fe76",
   "metadata": {},
   "outputs": [],
   "source": []
  },
  {
   "cell_type": "markdown",
   "id": "3181b453",
   "metadata": {},
   "source": [
    "### Comments\n",
    "- Our original model test accuracy is 94,26% while GridSearch CV score on test-set is 93,13%.\n",
    "- So, GridSearch CV helps to identify the parameters that will improve the performance for this particular model.\n",
    "- Here, we should not confuse `best_score_` attribute of `grid_search` with the `score` method on the test-set. \n",
    "- The `score` method on the test-set gives the generalization performance of the model. Using the `score` method, we employ a model trained on the whole training set.\n",
    "- The `best_score_` attribute gives the mean cross-validation accuracy, with cross-validation performed on the training set."
   ]
  },
  {
   "cell_type": "markdown",
   "id": "10d43234-bf4a-4cd1-af35-d4be6409852b",
   "metadata": {},
   "source": [
    "<blockquote>Ref: <i>https://stackoverflow.com/questions/55591063/how-to-perform-smote-with-cross-validation-in-sklearn-in-python</i></blockquote>\n",
    "<blockquote>Ref: <i>Ganganwar, V. (2012) ‘An overview of classification algorithms for imbalanced datasets’, International Journal of Emerging Technology and Advanced Engineering, 2(4), pp. 42–47. Available at: http://www.ijetae.com/files/Volume2Issue4/IJETAE_0412_07.pdf.</i></blockquote>"
   ]
  },
  {
   "cell_type": "code",
   "execution_count": null,
   "id": "25a286fb",
   "metadata": {},
   "outputs": [],
   "source": []
  }
 ],
 "metadata": {
  "kernelspec": {
   "display_name": "Python 3",
   "language": "python",
   "name": "python3"
  },
  "language_info": {
   "codemirror_mode": {
    "name": "ipython",
    "version": 3
   },
   "file_extension": ".py",
   "mimetype": "text/x-python",
   "name": "python",
   "nbconvert_exporter": "python",
   "pygments_lexer": "ipython3",
   "version": "3.8.8"
  }
 },
 "nbformat": 4,
 "nbformat_minor": 5
}
